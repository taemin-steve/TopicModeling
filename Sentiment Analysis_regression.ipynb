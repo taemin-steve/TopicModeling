{
 "cells": [
  {
   "attachments": {},
   "cell_type": "markdown",
   "id": "0fd9e4b0",
   "metadata": {},
   "source": [
    "# Note Book For Seniment Analysis - EHmin"
   ]
  },
  {
   "attachments": {},
   "cell_type": "markdown",
   "id": "eb76f8b7",
   "metadata": {},
   "source": [
    "# Build DataFrame\n",
    "\n",
    " - for now, I use only 10000 data set"
   ]
  },
  {
   "cell_type": "code",
   "execution_count": 1,
   "id": "7b7e20e0",
   "metadata": {
    "scrolled": true
   },
   "outputs": [],
   "source": [
    "import pandas as pd \n",
    "df = pd.read_csv('review_lp31.csv')"
   ]
  },
  {
   "cell_type": "code",
   "execution_count": 2,
   "id": "d232e6bf",
   "metadata": {
    "scrolled": false
   },
   "outputs": [
    {
     "data": {
      "text/html": [
       "<div>\n",
       "<style scoped>\n",
       "    .dataframe tbody tr th:only-of-type {\n",
       "        vertical-align: middle;\n",
       "    }\n",
       "\n",
       "    .dataframe tbody tr th {\n",
       "        vertical-align: top;\n",
       "    }\n",
       "\n",
       "    .dataframe thead th {\n",
       "        text-align: right;\n",
       "    }\n",
       "</style>\n",
       "<table border=\"1\" class=\"dataframe\">\n",
       "  <thead>\n",
       "    <tr style=\"text-align: right;\">\n",
       "      <th></th>\n",
       "      <th>stars</th>\n",
       "      <th>text</th>\n",
       "    </tr>\n",
       "  </thead>\n",
       "  <tbody>\n",
       "    <tr>\n",
       "      <th>0</th>\n",
       "      <td>5</td>\n",
       "      <td>impressive decor start from the entrance outsi...</td>\n",
       "    </tr>\n",
       "    <tr>\n",
       "      <th>1</th>\n",
       "      <td>5</td>\n",
       "      <td>after i work a crazy long day , hub be on dinn...</td>\n",
       "    </tr>\n",
       "    <tr>\n",
       "      <th>2</th>\n",
       "      <td>3</td>\n",
       "      <td>breakfast bagel : 2.5 out of 5 pre make egg th...</td>\n",
       "    </tr>\n",
       "    <tr>\n",
       "      <th>3</th>\n",
       "      <td>5</td>\n",
       "      <td>fantastic burrito and taco ! this be a real ta...</td>\n",
       "    </tr>\n",
       "    <tr>\n",
       "      <th>4</th>\n",
       "      <td>5</td>\n",
       "      <td>country acre be amazing ! ! of all the petcos ...</td>\n",
       "    </tr>\n",
       "  </tbody>\n",
       "</table>\n",
       "</div>"
      ],
      "text/plain": [
       "   stars                                               text\n",
       "0      5  impressive decor start from the entrance outsi...\n",
       "1      5  after i work a crazy long day , hub be on dinn...\n",
       "2      3  breakfast bagel : 2.5 out of 5 pre make egg th...\n",
       "3      5  fantastic burrito and taco ! this be a real ta...\n",
       "4      5  country acre be amazing ! ! of all the petcos ..."
      ]
     },
     "execution_count": 2,
     "metadata": {},
     "output_type": "execute_result"
    }
   ],
   "source": [
    "df.head(5)"
   ]
  },
  {
   "cell_type": "code",
   "execution_count": 3,
   "id": "5069c514",
   "metadata": {},
   "outputs": [],
   "source": [
    "df = df.rename(columns={'stars':'label','text':'text' })"
   ]
  },
  {
   "cell_type": "code",
   "execution_count": 4,
   "id": "ed8afc5f",
   "metadata": {},
   "outputs": [
    {
     "data": {
      "text/html": [
       "<div>\n",
       "<style scoped>\n",
       "    .dataframe tbody tr th:only-of-type {\n",
       "        vertical-align: middle;\n",
       "    }\n",
       "\n",
       "    .dataframe tbody tr th {\n",
       "        vertical-align: top;\n",
       "    }\n",
       "\n",
       "    .dataframe thead th {\n",
       "        text-align: right;\n",
       "    }\n",
       "</style>\n",
       "<table border=\"1\" class=\"dataframe\">\n",
       "  <thead>\n",
       "    <tr style=\"text-align: right;\">\n",
       "      <th></th>\n",
       "      <th>label</th>\n",
       "      <th>text</th>\n",
       "    </tr>\n",
       "  </thead>\n",
       "  <tbody>\n",
       "    <tr>\n",
       "      <th>0</th>\n",
       "      <td>5</td>\n",
       "      <td>impressive decor start from the entrance outsi...</td>\n",
       "    </tr>\n",
       "    <tr>\n",
       "      <th>1</th>\n",
       "      <td>5</td>\n",
       "      <td>after i work a crazy long day , hub be on dinn...</td>\n",
       "    </tr>\n",
       "    <tr>\n",
       "      <th>2</th>\n",
       "      <td>3</td>\n",
       "      <td>breakfast bagel : 2.5 out of 5 pre make egg th...</td>\n",
       "    </tr>\n",
       "    <tr>\n",
       "      <th>3</th>\n",
       "      <td>5</td>\n",
       "      <td>fantastic burrito and taco ! this be a real ta...</td>\n",
       "    </tr>\n",
       "    <tr>\n",
       "      <th>4</th>\n",
       "      <td>5</td>\n",
       "      <td>country acre be amazing ! ! of all the petcos ...</td>\n",
       "    </tr>\n",
       "    <tr>\n",
       "      <th>...</th>\n",
       "      <td>...</td>\n",
       "      <td>...</td>\n",
       "    </tr>\n",
       "    <tr>\n",
       "      <th>995</th>\n",
       "      <td>5</td>\n",
       "      <td>i have the pleasure of work with eva today . s...</td>\n",
       "    </tr>\n",
       "    <tr>\n",
       "      <th>996</th>\n",
       "      <td>4</td>\n",
       "      <td>you ca n't go wrong with the french toast or l...</td>\n",
       "    </tr>\n",
       "    <tr>\n",
       "      <th>997</th>\n",
       "      <td>1</td>\n",
       "      <td>so back in march i go to auto air by ben to ge...</td>\n",
       "    </tr>\n",
       "    <tr>\n",
       "      <th>998</th>\n",
       "      <td>5</td>\n",
       "      <td>best waffle ever ! i build my own with nutella...</td>\n",
       "    </tr>\n",
       "    <tr>\n",
       "      <th>999</th>\n",
       "      <td>5</td>\n",
       "      <td>love the outdoor seat area that have heat . i ...</td>\n",
       "    </tr>\n",
       "  </tbody>\n",
       "</table>\n",
       "<p>1000 rows × 2 columns</p>\n",
       "</div>"
      ],
      "text/plain": [
       "     label                                               text\n",
       "0        5  impressive decor start from the entrance outsi...\n",
       "1        5  after i work a crazy long day , hub be on dinn...\n",
       "2        3  breakfast bagel : 2.5 out of 5 pre make egg th...\n",
       "3        5  fantastic burrito and taco ! this be a real ta...\n",
       "4        5  country acre be amazing ! ! of all the petcos ...\n",
       "..     ...                                                ...\n",
       "995      5  i have the pleasure of work with eva today . s...\n",
       "996      4  you ca n't go wrong with the french toast or l...\n",
       "997      1  so back in march i go to auto air by ben to ge...\n",
       "998      5  best waffle ever ! i build my own with nutella...\n",
       "999      5  love the outdoor seat area that have heat . i ...\n",
       "\n",
       "[1000 rows x 2 columns]"
      ]
     },
     "execution_count": 4,
     "metadata": {},
     "output_type": "execute_result"
    }
   ],
   "source": [
    "small_df = df[0:1000]\n",
    "small_df"
   ]
  },
  {
   "cell_type": "code",
   "execution_count": 5,
   "id": "c176fe69",
   "metadata": {},
   "outputs": [
    {
     "name": "stderr",
     "output_type": "stream",
     "text": [
      "/var/tmp/ipykernel_30631/4081832988.py:1: SettingWithCopyWarning: \n",
      "A value is trying to be set on a copy of a slice from a DataFrame.\n",
      "Try using .loc[row_indexer,col_indexer] = value instead\n",
      "\n",
      "See the caveats in the documentation: https://pandas.pydata.org/pandas-docs/stable/user_guide/indexing.html#returning-a-view-versus-a-copy\n",
      "  small_df['label'] = small_df['label'] - 1\n",
      "/var/tmp/ipykernel_30631/4081832988.py:2: SettingWithCopyWarning: \n",
      "A value is trying to be set on a copy of a slice from a DataFrame.\n",
      "Try using .loc[row_indexer,col_indexer] = value instead\n",
      "\n",
      "See the caveats in the documentation: https://pandas.pydata.org/pandas-docs/stable/user_guide/indexing.html#returning-a-view-versus-a-copy\n",
      "  small_df['label'] = small_df['label'].astype(float)\n"
     ]
    },
    {
     "data": {
      "text/html": [
       "<div>\n",
       "<style scoped>\n",
       "    .dataframe tbody tr th:only-of-type {\n",
       "        vertical-align: middle;\n",
       "    }\n",
       "\n",
       "    .dataframe tbody tr th {\n",
       "        vertical-align: top;\n",
       "    }\n",
       "\n",
       "    .dataframe thead th {\n",
       "        text-align: right;\n",
       "    }\n",
       "</style>\n",
       "<table border=\"1\" class=\"dataframe\">\n",
       "  <thead>\n",
       "    <tr style=\"text-align: right;\">\n",
       "      <th></th>\n",
       "      <th>label</th>\n",
       "      <th>text</th>\n",
       "    </tr>\n",
       "  </thead>\n",
       "  <tbody>\n",
       "    <tr>\n",
       "      <th>0</th>\n",
       "      <td>4.0</td>\n",
       "      <td>impressive decor start from the entrance outsi...</td>\n",
       "    </tr>\n",
       "    <tr>\n",
       "      <th>1</th>\n",
       "      <td>4.0</td>\n",
       "      <td>after i work a crazy long day , hub be on dinn...</td>\n",
       "    </tr>\n",
       "    <tr>\n",
       "      <th>2</th>\n",
       "      <td>2.0</td>\n",
       "      <td>breakfast bagel : 2.5 out of 5 pre make egg th...</td>\n",
       "    </tr>\n",
       "    <tr>\n",
       "      <th>3</th>\n",
       "      <td>4.0</td>\n",
       "      <td>fantastic burrito and taco ! this be a real ta...</td>\n",
       "    </tr>\n",
       "    <tr>\n",
       "      <th>4</th>\n",
       "      <td>4.0</td>\n",
       "      <td>country acre be amazing ! ! of all the petcos ...</td>\n",
       "    </tr>\n",
       "    <tr>\n",
       "      <th>...</th>\n",
       "      <td>...</td>\n",
       "      <td>...</td>\n",
       "    </tr>\n",
       "    <tr>\n",
       "      <th>995</th>\n",
       "      <td>4.0</td>\n",
       "      <td>i have the pleasure of work with eva today . s...</td>\n",
       "    </tr>\n",
       "    <tr>\n",
       "      <th>996</th>\n",
       "      <td>3.0</td>\n",
       "      <td>you ca n't go wrong with the french toast or l...</td>\n",
       "    </tr>\n",
       "    <tr>\n",
       "      <th>997</th>\n",
       "      <td>0.0</td>\n",
       "      <td>so back in march i go to auto air by ben to ge...</td>\n",
       "    </tr>\n",
       "    <tr>\n",
       "      <th>998</th>\n",
       "      <td>4.0</td>\n",
       "      <td>best waffle ever ! i build my own with nutella...</td>\n",
       "    </tr>\n",
       "    <tr>\n",
       "      <th>999</th>\n",
       "      <td>4.0</td>\n",
       "      <td>love the outdoor seat area that have heat . i ...</td>\n",
       "    </tr>\n",
       "  </tbody>\n",
       "</table>\n",
       "<p>1000 rows × 2 columns</p>\n",
       "</div>"
      ],
      "text/plain": [
       "     label                                               text\n",
       "0      4.0  impressive decor start from the entrance outsi...\n",
       "1      4.0  after i work a crazy long day , hub be on dinn...\n",
       "2      2.0  breakfast bagel : 2.5 out of 5 pre make egg th...\n",
       "3      4.0  fantastic burrito and taco ! this be a real ta...\n",
       "4      4.0  country acre be amazing ! ! of all the petcos ...\n",
       "..     ...                                                ...\n",
       "995    4.0  i have the pleasure of work with eva today . s...\n",
       "996    3.0  you ca n't go wrong with the french toast or l...\n",
       "997    0.0  so back in march i go to auto air by ben to ge...\n",
       "998    4.0  best waffle ever ! i build my own with nutella...\n",
       "999    4.0  love the outdoor seat area that have heat . i ...\n",
       "\n",
       "[1000 rows x 2 columns]"
      ]
     },
     "execution_count": 5,
     "metadata": {},
     "output_type": "execute_result"
    }
   ],
   "source": [
    "small_df['label'] = small_df['label'] - 1\n",
    "small_df['label'] = small_df['label'].astype(float)\n",
    "small_df"
   ]
  },
  {
   "cell_type": "code",
   "execution_count": 6,
   "id": "1d573e94",
   "metadata": {
    "scrolled": true
   },
   "outputs": [],
   "source": [
    "from sklearn.model_selection import train_test_split\n",
    "train_df, test_df = train_test_split(small_df , test_size=0.2, random_state=42)"
   ]
  },
  {
   "cell_type": "code",
   "execution_count": 7,
   "id": "8c62291c",
   "metadata": {
    "scrolled": true
   },
   "outputs": [
    {
     "name": "stderr",
     "output_type": "stream",
     "text": [
      "/opt/conda/envs/EHmin/lib/python3.9/site-packages/tqdm/auto.py:21: TqdmWarning: IProgress not found. Please update jupyter and ipywidgets. See https://ipywidgets.readthedocs.io/en/stable/user_install.html\n",
      "  from .autonotebook import tqdm as notebook_tqdm\n"
     ]
    },
    {
     "data": {
      "text/plain": [
       "{'label': 3.0,\n",
       " 'text': \"bushi be one of my midtown favorite , and i can never understand why it 's always so quiet . the booth be typically fill with romantic couple while the center of the restaurant be ghostly quiet . when our cherry blossom roll be present , i have to stifle a squeal of delight . artfully display , it look like a colorful caterpillar with radish-sprout antenna , orange roe sprinkle , and avocado stripe . our nigiri ( crab and yellowtail ) be melt-in-your-mouth fresh , and even the cuke salad here be a delicious sesame-sweet piece of art pile tastefully and top with succulent string of crab and sprout . the yummy-yummy and playboy be outstanding here as well .\",\n",
       " '__index_level_0__': 541}"
      ]
     },
     "execution_count": 7,
     "metadata": {},
     "output_type": "execute_result"
    }
   ],
   "source": [
    "from datasets import Dataset\n",
    "\n",
    "small_train_dataset = Dataset.from_pandas(train_df)\n",
    "small_eval_dataset = Dataset.from_pandas(test_df)\n",
    "small_train_dataset[100]"
   ]
  },
  {
   "cell_type": "code",
   "execution_count": null,
   "id": "1adaa753",
   "metadata": {},
   "outputs": [],
   "source": []
  },
  {
   "attachments": {},
   "cell_type": "markdown",
   "id": "c8afc24d",
   "metadata": {},
   "source": [
    "# Tokenize"
   ]
  },
  {
   "cell_type": "code",
   "execution_count": 8,
   "id": "23b61428",
   "metadata": {},
   "outputs": [
    {
     "name": "stderr",
     "output_type": "stream",
     "text": [
      "                                                               \r"
     ]
    }
   ],
   "source": [
    "from transformers import AutoTokenizer\n",
    "\n",
    "tokenizer = AutoTokenizer.from_pretrained(\"bert-base-cased\")\n",
    "\n",
    "\n",
    "def tokenize_function(examples):\n",
    "    return tokenizer(examples[\"text\"], padding=\"max_length\", truncation=True)\n",
    "\n",
    "\n",
    "small_train_dataset = small_train_dataset.map(tokenize_function, batched=True)\n",
    "small_eval_dataset = small_eval_dataset.map(tokenize_function, batched=True)"
   ]
  },
  {
   "attachments": {},
   "cell_type": "markdown",
   "id": "8790d647",
   "metadata": {},
   "source": [
    "# Train"
   ]
  },
  {
   "cell_type": "code",
   "execution_count": 9,
   "id": "b51ab65a",
   "metadata": {},
   "outputs": [],
   "source": [
    "# !pip install transformers"
   ]
  },
  {
   "cell_type": "code",
   "execution_count": 10,
   "id": "ce67e0c2",
   "metadata": {},
   "outputs": [],
   "source": [
    "#!pip install --user --upgrade tensorflow"
   ]
  },
  {
   "cell_type": "code",
   "execution_count": 11,
   "id": "bc0a05fa",
   "metadata": {},
   "outputs": [],
   "source": [
    "#!pip install --user --upgrade protobuf"
   ]
  },
  {
   "cell_type": "code",
   "execution_count": 12,
   "id": "a6afde54",
   "metadata": {
    "scrolled": false
   },
   "outputs": [
    {
     "name": "stderr",
     "output_type": "stream",
     "text": [
      "Some weights of the model checkpoint at bert-base-uncased were not used when initializing BertForSequenceClassification: ['cls.seq_relationship.weight', 'cls.predictions.bias', 'cls.predictions.transform.LayerNorm.bias', 'cls.predictions.transform.dense.bias', 'cls.predictions.transform.LayerNorm.weight', 'cls.seq_relationship.bias', 'cls.predictions.transform.dense.weight', 'cls.predictions.decoder.weight']\n",
      "- This IS expected if you are initializing BertForSequenceClassification from the checkpoint of a model trained on another task or with another architecture (e.g. initializing a BertForSequenceClassification model from a BertForPreTraining model).\n",
      "- This IS NOT expected if you are initializing BertForSequenceClassification from the checkpoint of a model that you expect to be exactly identical (initializing a BertForSequenceClassification model from a BertForSequenceClassification model).\n",
      "Some weights of BertForSequenceClassification were not initialized from the model checkpoint at bert-base-uncased and are newly initialized: ['classifier.weight', 'classifier.bias']\n",
      "You should probably TRAIN this model on a down-stream task to be able to use it for predictions and inference.\n"
     ]
    }
   ],
   "source": [
    "from transformers import AutoModelForSequenceClassification\n",
    "model = AutoModelForSequenceClassification.from_pretrained(\"bert-base-uncased\",num_labels = 1).to(\"cuda\")"
   ]
  },
  {
   "cell_type": "code",
   "execution_count": 13,
   "id": "9535ccbb",
   "metadata": {},
   "outputs": [],
   "source": [
    "#!pip install protobuf==3.20"
   ]
  },
  {
   "cell_type": "code",
   "execution_count": 14,
   "id": "b50768ec",
   "metadata": {},
   "outputs": [],
   "source": [
    "#pip install tensorboardX"
   ]
  },
  {
   "cell_type": "code",
   "execution_count": 15,
   "id": "3da1e35c",
   "metadata": {
    "scrolled": true
   },
   "outputs": [],
   "source": [
    "from transformers import TrainingArguments\n",
    "\n",
    "training_args = TrainingArguments(output_dir=\"test_trainer\")"
   ]
  },
  {
   "attachments": {},
   "cell_type": "markdown",
   "id": "31d98b45",
   "metadata": {},
   "source": [
    "# Evaluate"
   ]
  },
  {
   "cell_type": "code",
   "execution_count": 16,
   "id": "47f6bff1",
   "metadata": {},
   "outputs": [],
   "source": [
    "import numpy as np\n",
    "import evaluate\n",
    "\n",
    "metric = evaluate.load(\"mse\")\n",
    "my = []"
   ]
  },
  {
   "cell_type": "code",
   "execution_count": 17,
   "id": "836ebb3f",
   "metadata": {},
   "outputs": [],
   "source": [
    "from sklearn.metrics import mean_squared_error, r2_score, mean_squared_error, mean_absolute_error\n",
    "\n",
    "def compute_metrics(eval_pred):\n",
    "    logits, labels = eval_pred\n",
    "    labels = labels.reshape(-1, 1)\n",
    "    rmse = mean_squared_error(labels, logits, squared=False)\n",
    "    \n",
    "    # return metric.compute(predictions=logits, references=labels)\n",
    "    return {\"rmse\" : rmse}"
   ]
  },
  {
   "cell_type": "code",
   "execution_count": 18,
   "id": "9ec10650",
   "metadata": {
    "scrolled": false
   },
   "outputs": [],
   "source": [
    "# from transformers import TrainingArguments, Trainer\n",
    "\n",
    "# training_args = TrainingArguments(output_dir=\"test_trainer\", \n",
    "#                                   evaluation_strategy=\"epoch\",\n",
    "#                                   logging_strategy = 'epoch',\n",
    "#                                   save_strategy = 'epoch',\n",
    "#                                   gradient_accumulation_steps=8,\n",
    "#                                   #logging_steps = 100,\n",
    "#                                   num_train_epochs=10\n",
    "#                                   )\n"
   ]
  },
  {
   "cell_type": "code",
   "execution_count": 19,
   "id": "440b13cd",
   "metadata": {},
   "outputs": [],
   "source": [
    "from transformers import TrainingArguments, Trainer\n",
    "\n",
    "training_args = TrainingArguments(output_dir=\"test_trainer\", \n",
    "                                  evaluation_strategy=\"epoch\",\n",
    "                                  gradient_accumulation_steps=8,\n",
    "                                  eval_accumulation_steps = 8,\n",
    "                                  \n",
    "                                  logging_strategy = 'epoch',\n",
    "                                #   logging_strategy = 'steps',\n",
    "                                #   logging_steps = 100,\n",
    "                                  \n",
    "                                  save_strategy = 'epoch',\n",
    "                                #   save_strategy = 'steps',\n",
    "                                #   save_steps = 1,\n",
    "                                  jit_mode_eval = True,\n",
    "                                  num_train_epochs=10\n",
    "                                  )"
   ]
  },
  {
   "attachments": {},
   "cell_type": "markdown",
   "id": "2f85a8be",
   "metadata": {},
   "source": [
    "# Trainer"
   ]
  },
  {
   "cell_type": "code",
   "execution_count": 20,
   "id": "e93dc79b",
   "metadata": {},
   "outputs": [],
   "source": [
    "trainer = Trainer(\n",
    "    model=model,\n",
    "    args=training_args,\n",
    "    train_dataset=small_train_dataset,\n",
    "    eval_dataset=small_eval_dataset,\n",
    "    compute_metrics=compute_metrics,\n",
    ")"
   ]
  },
  {
   "cell_type": "code",
   "execution_count": 21,
   "id": "430e74b7",
   "metadata": {},
   "outputs": [
    {
     "name": "stdout",
     "output_type": "stream",
     "text": [
      "[name: \"/device:CPU:0\"\n",
      "device_type: \"CPU\"\n",
      "memory_limit: 268435456\n",
      "locality {\n",
      "}\n",
      "incarnation: 13195618878379841946\n",
      "xla_global_id: -1\n",
      ", name: \"/device:GPU:0\"\n",
      "device_type: \"GPU\"\n",
      "memory_limit: 5953748992\n",
      "locality {\n",
      "  bus_id: 1\n",
      "  links {\n",
      "  }\n",
      "}\n",
      "incarnation: 1777066891566442161\n",
      "physical_device_desc: \"device: 0, name: Tesla V100-SXM2-16GB, pci bus id: 0000:00:04.0, compute capability: 7.0\"\n",
      "xla_global_id: 416903419\n",
      "]\n"
     ]
    },
    {
     "name": "stderr",
     "output_type": "stream",
     "text": [
      "2023-06-10 03:37:51.105228: I tensorflow/core/platform/cpu_feature_guard.cc:193] This TensorFlow binary is optimized with oneAPI Deep Neural Network Library (oneDNN) to use the following CPU instructions in performance-critical operations:  AVX2 AVX512F FMA\n",
      "To enable them in other operations, rebuild TensorFlow with the appropriate compiler flags.\n",
      "2023-06-10 03:37:51.106899: I tensorflow/stream_executor/cuda/cuda_gpu_executor.cc:975] successful NUMA node read from SysFS had negative value (-1), but there must be at least one NUMA node, so returning NUMA node zero\n",
      "2023-06-10 03:37:51.108286: I tensorflow/stream_executor/cuda/cuda_gpu_executor.cc:975] successful NUMA node read from SysFS had negative value (-1), but there must be at least one NUMA node, so returning NUMA node zero\n",
      "2023-06-10 03:37:51.108542: I tensorflow/stream_executor/cuda/cuda_gpu_executor.cc:975] successful NUMA node read from SysFS had negative value (-1), but there must be at least one NUMA node, so returning NUMA node zero\n",
      "2023-06-10 03:37:51.109004: I tensorflow/stream_executor/cuda/cuda_gpu_executor.cc:975] successful NUMA node read from SysFS had negative value (-1), but there must be at least one NUMA node, so returning NUMA node zero\n",
      "2023-06-10 03:37:51.109224: I tensorflow/stream_executor/cuda/cuda_gpu_executor.cc:975] successful NUMA node read from SysFS had negative value (-1), but there must be at least one NUMA node, so returning NUMA node zero\n",
      "2023-06-10 03:37:51.109438: I tensorflow/stream_executor/cuda/cuda_gpu_executor.cc:975] successful NUMA node read from SysFS had negative value (-1), but there must be at least one NUMA node, so returning NUMA node zero\n",
      "2023-06-10 03:37:51.109613: I tensorflow/core/common_runtime/gpu/gpu_device.cc:1532] Created device /device:GPU:0 with 5677 MB memory:  -> device: 0, name: Tesla V100-SXM2-16GB, pci bus id: 0000:00:04.0, compute capability: 7.0\n"
     ]
    }
   ],
   "source": [
    "import tensorflow as tf\n",
    "from tensorflow.python.client import device_lib\n",
    "print(device_lib.list_local_devices())"
   ]
  },
  {
   "cell_type": "code",
   "execution_count": 22,
   "id": "503262cb",
   "metadata": {},
   "outputs": [],
   "source": [
    "from transformers import TrainerCallback\n",
    "from copy import deepcopy\n",
    "\n",
    "class CustomCallback(TrainerCallback):\n",
    "    \n",
    "    def __init__(self, trainer) -> None:\n",
    "        super().__init__()\n",
    "        self._trainer = trainer\n",
    "    \n",
    "    def on_epoch_end(self, args, state, control, **kwargs):\n",
    "        if control.should_evaluate:\n",
    "            control_copy = deepcopy(control)\n",
    "            self._trainer.evaluate(eval_dataset=self._trainer.train_dataset, metric_key_prefix=\"train\")\n",
    "            return control_copy\n",
    "        \n",
    "        \n",
    "# trainer.add_callback(CustomCallback(trainer)) "
   ]
  },
  {
   "cell_type": "code",
   "execution_count": 23,
   "id": "a3e3ea2f",
   "metadata": {
    "scrolled": false
   },
   "outputs": [
    {
     "name": "stderr",
     "output_type": "stream",
     "text": [
      "2023-06-10 03:37:51.126985: I tensorflow/stream_executor/cuda/cuda_gpu_executor.cc:975] successful NUMA node read from SysFS had negative value (-1), but there must be at least one NUMA node, so returning NUMA node zero\n",
      "2023-06-10 03:37:51.127320: I tensorflow/stream_executor/cuda/cuda_gpu_executor.cc:975] successful NUMA node read from SysFS had negative value (-1), but there must be at least one NUMA node, so returning NUMA node zero\n",
      "2023-06-10 03:37:51.127522: I tensorflow/stream_executor/cuda/cuda_gpu_executor.cc:975] successful NUMA node read from SysFS had negative value (-1), but there must be at least one NUMA node, so returning NUMA node zero\n",
      "2023-06-10 03:37:51.128114: I tensorflow/stream_executor/cuda/cuda_gpu_executor.cc:975] successful NUMA node read from SysFS had negative value (-1), but there must be at least one NUMA node, so returning NUMA node zero\n",
      "2023-06-10 03:37:51.128378: I tensorflow/stream_executor/cuda/cuda_gpu_executor.cc:975] successful NUMA node read from SysFS had negative value (-1), but there must be at least one NUMA node, so returning NUMA node zero\n",
      "2023-06-10 03:37:51.128571: I tensorflow/stream_executor/cuda/cuda_gpu_executor.cc:975] successful NUMA node read from SysFS had negative value (-1), but there must be at least one NUMA node, so returning NUMA node zero\n",
      "2023-06-10 03:37:51.128823: I tensorflow/stream_executor/cuda/cuda_gpu_executor.cc:975] successful NUMA node read from SysFS had negative value (-1), but there must be at least one NUMA node, so returning NUMA node zero\n",
      "2023-06-10 03:37:51.129020: I tensorflow/stream_executor/cuda/cuda_gpu_executor.cc:975] successful NUMA node read from SysFS had negative value (-1), but there must be at least one NUMA node, so returning NUMA node zero\n",
      "2023-06-10 03:37:51.129176: I tensorflow/core/common_runtime/gpu/gpu_device.cc:1532] Created device /job:localhost/replica:0/task:0/device:GPU:0 with 5677 MB memory:  -> device: 0, name: Tesla V100-SXM2-16GB, pci bus id: 0000:00:04.0, compute capability: 7.0\n",
      "/opt/conda/envs/EHmin/lib/python3.9/site-packages/transformers/optimization.py:407: FutureWarning: This implementation of AdamW is deprecated and will be removed in a future version. Use the PyTorch implementation torch.optim.AdamW instead, or set `no_deprecation_warning=True` to disable this warning\n",
      "  warnings.warn(\n"
     ]
    },
    {
     "data": {
      "text/html": [
       "\n",
       "    <div>\n",
       "      \n",
       "      <progress value='120' max='120' style='width:300px; height:20px; vertical-align: middle;'></progress>\n",
       "      [120/120 04:53, Epoch 9/10]\n",
       "    </div>\n",
       "    <table border=\"1\" class=\"dataframe\">\n",
       "  <thead>\n",
       " <tr style=\"text-align: left;\">\n",
       "      <th>Epoch</th>\n",
       "      <th>Training Loss</th>\n",
       "      <th>Validation Loss</th>\n",
       "      <th>Rmse</th>\n",
       "    </tr>\n",
       "  </thead>\n",
       "  <tbody>\n",
       "    <tr>\n",
       "      <td>0</td>\n",
       "      <td>4.892400</td>\n",
       "      <td>2.692296</td>\n",
       "      <td>1.640822</td>\n",
       "    </tr>\n",
       "    <tr>\n",
       "      <td>2</td>\n",
       "      <td>2.103900</td>\n",
       "      <td>2.602305</td>\n",
       "      <td>1.613166</td>\n",
       "    </tr>\n",
       "    <tr>\n",
       "      <td>2</td>\n",
       "      <td>2.603900</td>\n",
       "      <td>2.551327</td>\n",
       "      <td>1.597287</td>\n",
       "    </tr>\n",
       "    <tr>\n",
       "      <td>4</td>\n",
       "      <td>1.820300</td>\n",
       "      <td>2.086465</td>\n",
       "      <td>1.444460</td>\n",
       "    </tr>\n",
       "    <tr>\n",
       "      <td>4</td>\n",
       "      <td>1.717500</td>\n",
       "      <td>1.958257</td>\n",
       "      <td>1.399377</td>\n",
       "    </tr>\n",
       "    <tr>\n",
       "      <td>6</td>\n",
       "      <td>1.198600</td>\n",
       "      <td>1.931176</td>\n",
       "      <td>1.389668</td>\n",
       "    </tr>\n",
       "    <tr>\n",
       "      <td>6</td>\n",
       "      <td>1.046400</td>\n",
       "      <td>2.550539</td>\n",
       "      <td>1.597041</td>\n",
       "    </tr>\n",
       "    <tr>\n",
       "      <td>8</td>\n",
       "      <td>0.865800</td>\n",
       "      <td>1.823557</td>\n",
       "      <td>1.350392</td>\n",
       "    </tr>\n",
       "    <tr>\n",
       "      <td>8</td>\n",
       "      <td>0.662000</td>\n",
       "      <td>1.833411</td>\n",
       "      <td>1.354035</td>\n",
       "    </tr>\n",
       "    <tr>\n",
       "      <td>9</td>\n",
       "      <td>0.614600</td>\n",
       "      <td>1.908560</td>\n",
       "      <td>1.381506</td>\n",
       "    </tr>\n",
       "  </tbody>\n",
       "</table><p>"
      ],
      "text/plain": [
       "<IPython.core.display.HTML object>"
      ]
     },
     "metadata": {},
     "output_type": "display_data"
    },
    {
     "name": "stderr",
     "output_type": "stream",
     "text": [
      "failed to use PyTorch jit mode due to: not enough values to unpack (expected 2, got 1).\n",
      "failed to use PyTorch jit mode due to: not enough values to unpack (expected 2, got 1).\n",
      "failed to use PyTorch jit mode due to: not enough values to unpack (expected 2, got 1).\n",
      "failed to use PyTorch jit mode due to: not enough values to unpack (expected 2, got 1).\n",
      "failed to use PyTorch jit mode due to: not enough values to unpack (expected 2, got 1).\n",
      "failed to use PyTorch jit mode due to: not enough values to unpack (expected 2, got 1).\n",
      "failed to use PyTorch jit mode due to: not enough values to unpack (expected 2, got 1).\n",
      "failed to use PyTorch jit mode due to: not enough values to unpack (expected 2, got 1).\n",
      "failed to use PyTorch jit mode due to: not enough values to unpack (expected 2, got 1).\n",
      "failed to use PyTorch jit mode due to: not enough values to unpack (expected 2, got 1).\n"
     ]
    }
   ],
   "source": [
    "with tf.device(\"/device:GPU:0\"):\n",
    "     trainer.train()\n",
    "\n"
   ]
  },
  {
   "cell_type": "code",
   "execution_count": 24,
   "id": "f0da2675",
   "metadata": {},
   "outputs": [],
   "source": [
    "trainer.save_model('./')"
   ]
  },
  {
   "cell_type": "code",
   "execution_count": 25,
   "id": "3c2a1314",
   "metadata": {},
   "outputs": [
    {
     "name": "stderr",
     "output_type": "stream",
     "text": [
      "failed to use PyTorch jit mode due to: not enough values to unpack (expected 2, got 1).\n"
     ]
    },
    {
     "data": {
      "text/html": [],
      "text/plain": [
       "<IPython.core.display.HTML object>"
      ]
     },
     "metadata": {},
     "output_type": "display_data"
    }
   ],
   "source": [
    "metrics = trainer.evaluate(small_eval_dataset)"
   ]
  },
  {
   "cell_type": "code",
   "execution_count": 26,
   "id": "548901e6",
   "metadata": {},
   "outputs": [
    {
     "name": "stdout",
     "output_type": "stream",
     "text": [
      "{'eval_loss': 1.9085595607757568, 'eval_jit_compilation_time': 0.3217, 'eval_rmse': 1.381506323814392, 'eval_runtime': 2.0837, 'eval_samples_per_second': 95.985, 'eval_steps_per_second': 11.998, 'epoch': 9.6}\n"
     ]
    }
   ],
   "source": [
    "print(metrics)"
   ]
  },
  {
   "cell_type": "code",
   "execution_count": 27,
   "id": "0d510def",
   "metadata": {},
   "outputs": [
    {
     "name": "stderr",
     "output_type": "stream",
     "text": [
      "failed to use PyTorch jit mode due to: not enough values to unpack (expected 2, got 1).\n"
     ]
    },
    {
     "name": "stdout",
     "output_type": "stream",
     "text": [
      "PredictionOutput(predictions=array([[ 3.7881472 ],\n",
      "       [ 3.775856  ],\n",
      "       [ 2.725143  ],\n",
      "       [ 3.9410212 ],\n",
      "       [ 2.7109902 ],\n",
      "       [ 3.2982519 ],\n",
      "       [ 3.8314548 ],\n",
      "       [ 0.91809165],\n",
      "       [ 0.10849875],\n",
      "       [ 1.2973435 ],\n",
      "       [ 1.030497  ],\n",
      "       [ 3.6202133 ],\n",
      "       [ 3.9106224 ],\n",
      "       [ 3.8500829 ],\n",
      "       [ 0.18580312],\n",
      "       [ 3.2327013 ],\n",
      "       [ 3.9206634 ],\n",
      "       [ 2.778353  ],\n",
      "       [ 3.889894  ],\n",
      "       [ 3.406277  ],\n",
      "       [ 1.3925468 ],\n",
      "       [ 0.31715205],\n",
      "       [ 0.5974269 ],\n",
      "       [ 3.886857  ],\n",
      "       [ 3.4969196 ],\n",
      "       [ 3.4567182 ],\n",
      "       [ 3.7878344 ],\n",
      "       [ 3.5819716 ],\n",
      "       [ 3.6391551 ],\n",
      "       [ 1.237582  ],\n",
      "       [ 3.8571615 ],\n",
      "       [ 2.3359694 ],\n",
      "       [ 3.9170873 ],\n",
      "       [ 0.23202968],\n",
      "       [ 2.2759998 ],\n",
      "       [ 1.8621601 ],\n",
      "       [ 3.2923067 ],\n",
      "       [ 3.9103904 ],\n",
      "       [ 3.0112386 ],\n",
      "       [ 3.157342  ],\n",
      "       [ 3.875119  ],\n",
      "       [ 1.7013255 ],\n",
      "       [ 3.899413  ],\n",
      "       [ 3.8148992 ],\n",
      "       [ 3.8842635 ],\n",
      "       [ 3.9097662 ],\n",
      "       [ 3.3646457 ],\n",
      "       [ 1.3605373 ],\n",
      "       [ 0.677802  ],\n",
      "       [ 3.8996308 ],\n",
      "       [ 3.5789323 ],\n",
      "       [ 3.9089506 ],\n",
      "       [ 1.4600868 ],\n",
      "       [ 3.935469  ],\n",
      "       [ 2.1556065 ],\n",
      "       [ 3.6389616 ],\n",
      "       [ 1.7317501 ],\n",
      "       [ 0.5873988 ],\n",
      "       [ 3.899224  ],\n",
      "       [ 3.887653  ],\n",
      "       [ 3.8533702 ],\n",
      "       [ 0.83723485],\n",
      "       [ 3.9310148 ],\n",
      "       [ 0.3292229 ],\n",
      "       [ 3.7599416 ],\n",
      "       [ 3.6214187 ],\n",
      "       [ 2.0930963 ],\n",
      "       [ 3.841518  ],\n",
      "       [ 2.1708484 ],\n",
      "       [ 2.6872513 ],\n",
      "       [ 3.9272444 ],\n",
      "       [ 3.936094  ],\n",
      "       [ 3.5019193 ],\n",
      "       [ 3.6457632 ],\n",
      "       [ 1.547642  ],\n",
      "       [ 1.1691972 ],\n",
      "       [ 3.937173  ],\n",
      "       [ 3.8819976 ],\n",
      "       [ 0.8540089 ],\n",
      "       [ 2.3876617 ],\n",
      "       [ 3.9046135 ],\n",
      "       [ 1.688983  ],\n",
      "       [ 3.8794477 ],\n",
      "       [ 0.45683086],\n",
      "       [ 3.935203  ],\n",
      "       [ 3.8730633 ],\n",
      "       [ 3.837891  ],\n",
      "       [ 3.662297  ],\n",
      "       [ 3.8865955 ],\n",
      "       [ 0.7583876 ],\n",
      "       [ 2.9523833 ],\n",
      "       [ 2.133672  ],\n",
      "       [ 3.136481  ],\n",
      "       [ 3.6216693 ],\n",
      "       [ 2.5369656 ],\n",
      "       [ 0.6760904 ],\n",
      "       [ 3.884503  ],\n",
      "       [ 3.4170663 ],\n",
      "       [ 3.7839973 ],\n",
      "       [ 3.8913734 ],\n",
      "       [ 3.78605   ],\n",
      "       [ 0.89163625],\n",
      "       [ 2.1600752 ],\n",
      "       [ 3.922296  ],\n",
      "       [ 3.1331584 ],\n",
      "       [ 3.7587786 ],\n",
      "       [ 3.9233413 ],\n",
      "       [ 3.9359372 ],\n",
      "       [-0.07984138],\n",
      "       [ 3.7760134 ],\n",
      "       [ 3.7770708 ],\n",
      "       [ 3.6777127 ],\n",
      "       [ 1.19248   ],\n",
      "       [ 3.7395346 ],\n",
      "       [ 3.7561004 ],\n",
      "       [ 1.9118719 ],\n",
      "       [ 1.7040107 ],\n",
      "       [ 3.8963394 ],\n",
      "       [ 3.0718367 ],\n",
      "       [ 3.9308279 ],\n",
      "       [ 0.12743965],\n",
      "       [ 3.4452658 ],\n",
      "       [ 2.688783  ],\n",
      "       [ 3.8983219 ],\n",
      "       [ 3.7175117 ],\n",
      "       [ 3.7242224 ],\n",
      "       [ 3.290928  ],\n",
      "       [ 0.14892888],\n",
      "       [ 3.7049556 ],\n",
      "       [ 3.1822786 ],\n",
      "       [ 3.9217615 ],\n",
      "       [ 3.9131768 ],\n",
      "       [ 3.6163275 ],\n",
      "       [ 2.6980743 ],\n",
      "       [ 3.7020378 ],\n",
      "       [ 3.7444732 ],\n",
      "       [ 3.8968978 ],\n",
      "       [ 3.5992494 ],\n",
      "       [ 0.15388626],\n",
      "       [ 3.937804  ],\n",
      "       [ 2.6093342 ],\n",
      "       [ 3.6585677 ],\n",
      "       [ 3.8939152 ],\n",
      "       [ 3.8363557 ],\n",
      "       [ 1.1434591 ],\n",
      "       [ 0.4319521 ],\n",
      "       [ 0.04907965],\n",
      "       [ 2.739861  ],\n",
      "       [ 3.6654084 ],\n",
      "       [ 3.8831074 ],\n",
      "       [ 3.9201787 ],\n",
      "       [ 0.03759332],\n",
      "       [ 3.9117725 ],\n",
      "       [ 0.2786468 ],\n",
      "       [ 3.8928134 ],\n",
      "       [ 3.0167685 ],\n",
      "       [ 1.0010382 ],\n",
      "       [ 3.902724  ],\n",
      "       [ 3.9007695 ],\n",
      "       [ 3.8919556 ],\n",
      "       [ 3.745543  ],\n",
      "       [ 3.9153962 ],\n",
      "       [ 3.7989304 ],\n",
      "       [ 3.9162478 ],\n",
      "       [ 3.6725433 ],\n",
      "       [ 3.9094248 ],\n",
      "       [ 3.9137325 ],\n",
      "       [ 0.18020971],\n",
      "       [ 0.47502542],\n",
      "       [ 3.8525271 ],\n",
      "       [ 1.9543295 ],\n",
      "       [ 3.6333516 ],\n",
      "       [ 3.907923  ],\n",
      "       [ 3.466676  ],\n",
      "       [ 3.8699782 ],\n",
      "       [ 3.8177478 ],\n",
      "       [ 2.5907996 ],\n",
      "       [ 3.941898  ],\n",
      "       [ 3.091454  ],\n",
      "       [ 1.7515949 ],\n",
      "       [ 3.69999   ],\n",
      "       [ 1.6975923 ],\n",
      "       [ 3.9404252 ],\n",
      "       [ 3.6516237 ],\n",
      "       [ 3.1351442 ],\n",
      "       [ 3.9309695 ],\n",
      "       [ 3.7990482 ],\n",
      "       [ 3.884816  ],\n",
      "       [ 3.7674224 ],\n",
      "       [ 2.7411697 ],\n",
      "       [ 3.8668065 ],\n",
      "       [ 1.3749154 ],\n",
      "       [ 1.1374812 ],\n",
      "       [ 3.7615168 ],\n",
      "       [ 3.669758  ],\n",
      "       [ 0.4097992 ],\n",
      "       [ 3.2327116 ],\n",
      "       [ 3.8650966 ],\n",
      "       [ 3.9178355 ],\n",
      "       [ 1.1979508 ]], dtype=float32), label_ids=array([3., 1., 2., 4., 1., 0., 4., 4., 0., 4., 0., 4., 3., 4., 0., 2., 4.,\n",
      "       4., 3., 1., 4., 0., 0., 4., 4., 4., 4., 4., 2., 1., 3., 0., 4., 0.,\n",
      "       3., 1., 0., 4., 0., 0., 4., 1., 4., 3., 4., 4., 0., 3., 0., 4., 4.,\n",
      "       4., 1., 3., 2., 3., 0., 4., 4., 4., 4., 0., 4., 0., 4., 4., 2., 3.,\n",
      "       2., 1., 3., 4., 1., 0., 0., 4., 4., 3., 0., 4., 4., 0., 4., 0., 4.,\n",
      "       0., 4., 4., 3., 0., 0., 4., 3., 0., 4., 1., 3., 1., 2., 2., 0., 1.,\n",
      "       4., 4., 4., 4., 4., 3., 0., 4., 4., 4., 4., 4., 3., 1., 0., 4., 0.,\n",
      "       4., 0., 4., 3., 4., 4., 2., 4., 2., 1., 0., 3., 4., 0., 4., 4., 4.,\n",
      "       4., 0., 0., 4., 4., 4., 3., 2., 4., 0., 1., 0., 4., 4., 4., 0., 4.,\n",
      "       0., 3., 2., 0., 4., 4., 4., 3., 4., 4., 4., 4., 3., 4., 0., 0., 4.,\n",
      "       0., 4., 4., 2., 3., 2., 1., 3., 3., 0., 4., 2., 4., 4., 4., 4., 3.,\n",
      "       4., 4., 3., 4., 0., 0., 4., 4., 2., 4., 4., 3., 0.], dtype=float32), metrics={'test_loss': 1.9085595607757568, 'test_jit_compilation_time': 0.3203, 'test_rmse': 1.381506323814392, 'test_runtime': 2.0894, 'test_samples_per_second': 95.723, 'test_steps_per_second': 11.965})\n"
     ]
    }
   ],
   "source": [
    "a = trainer.predict(small_eval_dataset)\n",
    "print(a)"
   ]
  },
  {
   "cell_type": "code",
   "execution_count": 31,
   "id": "af039ce1",
   "metadata": {},
   "outputs": [
    {
     "ename": "AttributeError",
     "evalue": "'PredictionOutput' object has no attribute 'labels'",
     "output_type": "error",
     "traceback": [
      "\u001b[0;31m---------------------------------------------------------------------------\u001b[0m",
      "\u001b[0;31mAttributeError\u001b[0m                            Traceback (most recent call last)",
      "Cell \u001b[0;32mIn[31], line 1\u001b[0m\n\u001b[0;32m----> 1\u001b[0m a\u001b[39m.\u001b[39;49mlabels\n",
      "\u001b[0;31mAttributeError\u001b[0m: 'PredictionOutput' object has no attribute 'labels'"
     ]
    }
   ],
   "source": [
    "a"
   ]
  },
  {
   "cell_type": "code",
   "execution_count": 33,
   "id": "48e7ba0f",
   "metadata": {},
   "outputs": [
    {
     "name": "stdout",
     "output_type": "stream",
     "text": [
      "[3.7881472] : 3.0\n",
      "[3.775856] : 1.0\n",
      "[2.725143] : 2.0\n",
      "[3.9410212] : 4.0\n",
      "[2.7109902] : 1.0\n",
      "[3.2982519] : 0.0\n",
      "[3.8314548] : 4.0\n",
      "[0.91809165] : 4.0\n",
      "[0.10849875] : 0.0\n",
      "[1.2973435] : 4.0\n",
      "[1.030497] : 0.0\n",
      "[3.6202133] : 4.0\n",
      "[3.9106224] : 3.0\n",
      "[3.8500829] : 4.0\n",
      "[0.18580312] : 0.0\n",
      "[3.2327013] : 2.0\n",
      "[3.9206634] : 4.0\n",
      "[2.778353] : 4.0\n",
      "[3.889894] : 3.0\n",
      "[3.406277] : 1.0\n"
     ]
    }
   ],
   "source": [
    "for i in range(20):\n",
    "    print(str(a.predictions[i]) + \" : \" + str(a.label_ids[i]))"
   ]
  }
 ],
 "metadata": {
  "kernelspec": {
   "display_name": "Python 3 (ipykernel)",
   "language": "python",
   "name": "python3"
  },
  "language_info": {
   "codemirror_mode": {
    "name": "ipython",
    "version": 3
   },
   "file_extension": ".py",
   "mimetype": "text/x-python",
   "name": "python",
   "nbconvert_exporter": "python",
   "pygments_lexer": "ipython3",
   "version": "3.9.16"
  }
 },
 "nbformat": 4,
 "nbformat_minor": 5
}
