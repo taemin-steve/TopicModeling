{
 "cells": [
  {
   "attachments": {},
   "cell_type": "markdown",
   "id": "0fd9e4b0",
   "metadata": {},
   "source": [
    "# Note Book For Seniment Analysis - EHmin"
   ]
  },
  {
   "attachments": {},
   "cell_type": "markdown",
   "id": "eb76f8b7",
   "metadata": {},
   "source": [
    "# Build DataFrame\n",
    "\n",
    " - for now, I use only 10000 data set"
   ]
  },
  {
   "cell_type": "code",
   "execution_count": 1,
   "id": "7b7e20e0",
   "metadata": {
    "scrolled": true
   },
   "outputs": [],
   "source": [
    "import pandas as pd \n",
    "df = pd.read_csv('review_lp31.csv')"
   ]
  },
  {
   "cell_type": "code",
   "execution_count": 2,
   "id": "d232e6bf",
   "metadata": {
    "scrolled": false
   },
   "outputs": [
    {
     "data": {
      "text/html": [
       "<div>\n",
       "<style scoped>\n",
       "    .dataframe tbody tr th:only-of-type {\n",
       "        vertical-align: middle;\n",
       "    }\n",
       "\n",
       "    .dataframe tbody tr th {\n",
       "        vertical-align: top;\n",
       "    }\n",
       "\n",
       "    .dataframe thead th {\n",
       "        text-align: right;\n",
       "    }\n",
       "</style>\n",
       "<table border=\"1\" class=\"dataframe\">\n",
       "  <thead>\n",
       "    <tr style=\"text-align: right;\">\n",
       "      <th></th>\n",
       "      <th>stars</th>\n",
       "      <th>text</th>\n",
       "    </tr>\n",
       "  </thead>\n",
       "  <tbody>\n",
       "    <tr>\n",
       "      <th>0</th>\n",
       "      <td>5</td>\n",
       "      <td>impressive decor start from the entrance outsi...</td>\n",
       "    </tr>\n",
       "    <tr>\n",
       "      <th>1</th>\n",
       "      <td>5</td>\n",
       "      <td>after i work a crazy long day , hub be on dinn...</td>\n",
       "    </tr>\n",
       "    <tr>\n",
       "      <th>2</th>\n",
       "      <td>3</td>\n",
       "      <td>breakfast bagel : 2.5 out of 5 pre make egg th...</td>\n",
       "    </tr>\n",
       "    <tr>\n",
       "      <th>3</th>\n",
       "      <td>5</td>\n",
       "      <td>fantastic burrito and taco ! this be a real ta...</td>\n",
       "    </tr>\n",
       "    <tr>\n",
       "      <th>4</th>\n",
       "      <td>5</td>\n",
       "      <td>country acre be amazing ! ! of all the petcos ...</td>\n",
       "    </tr>\n",
       "  </tbody>\n",
       "</table>\n",
       "</div>"
      ],
      "text/plain": [
       "   stars                                               text\n",
       "0      5  impressive decor start from the entrance outsi...\n",
       "1      5  after i work a crazy long day , hub be on dinn...\n",
       "2      3  breakfast bagel : 2.5 out of 5 pre make egg th...\n",
       "3      5  fantastic burrito and taco ! this be a real ta...\n",
       "4      5  country acre be amazing ! ! of all the petcos ..."
      ]
     },
     "execution_count": 2,
     "metadata": {},
     "output_type": "execute_result"
    }
   ],
   "source": [
    "df.head(5)"
   ]
  },
  {
   "cell_type": "code",
   "execution_count": 3,
   "id": "5069c514",
   "metadata": {},
   "outputs": [],
   "source": [
    "df = df.rename(columns={'stars':'label','text':'text' })"
   ]
  },
  {
   "cell_type": "code",
   "execution_count": 4,
   "id": "ed8afc5f",
   "metadata": {},
   "outputs": [
    {
     "data": {
      "text/html": [
       "<div>\n",
       "<style scoped>\n",
       "    .dataframe tbody tr th:only-of-type {\n",
       "        vertical-align: middle;\n",
       "    }\n",
       "\n",
       "    .dataframe tbody tr th {\n",
       "        vertical-align: top;\n",
       "    }\n",
       "\n",
       "    .dataframe thead th {\n",
       "        text-align: right;\n",
       "    }\n",
       "</style>\n",
       "<table border=\"1\" class=\"dataframe\">\n",
       "  <thead>\n",
       "    <tr style=\"text-align: right;\">\n",
       "      <th></th>\n",
       "      <th>label</th>\n",
       "      <th>text</th>\n",
       "    </tr>\n",
       "  </thead>\n",
       "  <tbody>\n",
       "    <tr>\n",
       "      <th>0</th>\n",
       "      <td>5</td>\n",
       "      <td>impressive decor start from the entrance outsi...</td>\n",
       "    </tr>\n",
       "    <tr>\n",
       "      <th>1</th>\n",
       "      <td>5</td>\n",
       "      <td>after i work a crazy long day , hub be on dinn...</td>\n",
       "    </tr>\n",
       "    <tr>\n",
       "      <th>2</th>\n",
       "      <td>3</td>\n",
       "      <td>breakfast bagel : 2.5 out of 5 pre make egg th...</td>\n",
       "    </tr>\n",
       "    <tr>\n",
       "      <th>3</th>\n",
       "      <td>5</td>\n",
       "      <td>fantastic burrito and taco ! this be a real ta...</td>\n",
       "    </tr>\n",
       "    <tr>\n",
       "      <th>4</th>\n",
       "      <td>5</td>\n",
       "      <td>country acre be amazing ! ! of all the petcos ...</td>\n",
       "    </tr>\n",
       "    <tr>\n",
       "      <th>...</th>\n",
       "      <td>...</td>\n",
       "      <td>...</td>\n",
       "    </tr>\n",
       "    <tr>\n",
       "      <th>995</th>\n",
       "      <td>5</td>\n",
       "      <td>i have the pleasure of work with eva today . s...</td>\n",
       "    </tr>\n",
       "    <tr>\n",
       "      <th>996</th>\n",
       "      <td>4</td>\n",
       "      <td>you ca n't go wrong with the french toast or l...</td>\n",
       "    </tr>\n",
       "    <tr>\n",
       "      <th>997</th>\n",
       "      <td>1</td>\n",
       "      <td>so back in march i go to auto air by ben to ge...</td>\n",
       "    </tr>\n",
       "    <tr>\n",
       "      <th>998</th>\n",
       "      <td>5</td>\n",
       "      <td>best waffle ever ! i build my own with nutella...</td>\n",
       "    </tr>\n",
       "    <tr>\n",
       "      <th>999</th>\n",
       "      <td>5</td>\n",
       "      <td>love the outdoor seat area that have heat . i ...</td>\n",
       "    </tr>\n",
       "  </tbody>\n",
       "</table>\n",
       "<p>1000 rows × 2 columns</p>\n",
       "</div>"
      ],
      "text/plain": [
       "     label                                               text\n",
       "0        5  impressive decor start from the entrance outsi...\n",
       "1        5  after i work a crazy long day , hub be on dinn...\n",
       "2        3  breakfast bagel : 2.5 out of 5 pre make egg th...\n",
       "3        5  fantastic burrito and taco ! this be a real ta...\n",
       "4        5  country acre be amazing ! ! of all the petcos ...\n",
       "..     ...                                                ...\n",
       "995      5  i have the pleasure of work with eva today . s...\n",
       "996      4  you ca n't go wrong with the french toast or l...\n",
       "997      1  so back in march i go to auto air by ben to ge...\n",
       "998      5  best waffle ever ! i build my own with nutella...\n",
       "999      5  love the outdoor seat area that have heat . i ...\n",
       "\n",
       "[1000 rows x 2 columns]"
      ]
     },
     "execution_count": 4,
     "metadata": {},
     "output_type": "execute_result"
    }
   ],
   "source": [
    "small_df = df[0:1000]\n",
    "small_df"
   ]
  },
  {
   "cell_type": "code",
   "execution_count": 5,
   "id": "c176fe69",
   "metadata": {},
   "outputs": [
    {
     "name": "stderr",
     "output_type": "stream",
     "text": [
      "/var/tmp/ipykernel_18306/2213859284.py:1: SettingWithCopyWarning: \n",
      "A value is trying to be set on a copy of a slice from a DataFrame.\n",
      "Try using .loc[row_indexer,col_indexer] = value instead\n",
      "\n",
      "See the caveats in the documentation: https://pandas.pydata.org/pandas-docs/stable/user_guide/indexing.html#returning-a-view-versus-a-copy\n",
      "  small_df['label'] = small_df['label'] - 1\n"
     ]
    },
    {
     "data": {
      "text/html": [
       "<div>\n",
       "<style scoped>\n",
       "    .dataframe tbody tr th:only-of-type {\n",
       "        vertical-align: middle;\n",
       "    }\n",
       "\n",
       "    .dataframe tbody tr th {\n",
       "        vertical-align: top;\n",
       "    }\n",
       "\n",
       "    .dataframe thead th {\n",
       "        text-align: right;\n",
       "    }\n",
       "</style>\n",
       "<table border=\"1\" class=\"dataframe\">\n",
       "  <thead>\n",
       "    <tr style=\"text-align: right;\">\n",
       "      <th></th>\n",
       "      <th>label</th>\n",
       "      <th>text</th>\n",
       "    </tr>\n",
       "  </thead>\n",
       "  <tbody>\n",
       "    <tr>\n",
       "      <th>0</th>\n",
       "      <td>4</td>\n",
       "      <td>impressive decor start from the entrance outsi...</td>\n",
       "    </tr>\n",
       "    <tr>\n",
       "      <th>1</th>\n",
       "      <td>4</td>\n",
       "      <td>after i work a crazy long day , hub be on dinn...</td>\n",
       "    </tr>\n",
       "    <tr>\n",
       "      <th>2</th>\n",
       "      <td>2</td>\n",
       "      <td>breakfast bagel : 2.5 out of 5 pre make egg th...</td>\n",
       "    </tr>\n",
       "    <tr>\n",
       "      <th>3</th>\n",
       "      <td>4</td>\n",
       "      <td>fantastic burrito and taco ! this be a real ta...</td>\n",
       "    </tr>\n",
       "    <tr>\n",
       "      <th>4</th>\n",
       "      <td>4</td>\n",
       "      <td>country acre be amazing ! ! of all the petcos ...</td>\n",
       "    </tr>\n",
       "    <tr>\n",
       "      <th>...</th>\n",
       "      <td>...</td>\n",
       "      <td>...</td>\n",
       "    </tr>\n",
       "    <tr>\n",
       "      <th>995</th>\n",
       "      <td>4</td>\n",
       "      <td>i have the pleasure of work with eva today . s...</td>\n",
       "    </tr>\n",
       "    <tr>\n",
       "      <th>996</th>\n",
       "      <td>3</td>\n",
       "      <td>you ca n't go wrong with the french toast or l...</td>\n",
       "    </tr>\n",
       "    <tr>\n",
       "      <th>997</th>\n",
       "      <td>0</td>\n",
       "      <td>so back in march i go to auto air by ben to ge...</td>\n",
       "    </tr>\n",
       "    <tr>\n",
       "      <th>998</th>\n",
       "      <td>4</td>\n",
       "      <td>best waffle ever ! i build my own with nutella...</td>\n",
       "    </tr>\n",
       "    <tr>\n",
       "      <th>999</th>\n",
       "      <td>4</td>\n",
       "      <td>love the outdoor seat area that have heat . i ...</td>\n",
       "    </tr>\n",
       "  </tbody>\n",
       "</table>\n",
       "<p>1000 rows × 2 columns</p>\n",
       "</div>"
      ],
      "text/plain": [
       "     label                                               text\n",
       "0        4  impressive decor start from the entrance outsi...\n",
       "1        4  after i work a crazy long day , hub be on dinn...\n",
       "2        2  breakfast bagel : 2.5 out of 5 pre make egg th...\n",
       "3        4  fantastic burrito and taco ! this be a real ta...\n",
       "4        4  country acre be amazing ! ! of all the petcos ...\n",
       "..     ...                                                ...\n",
       "995      4  i have the pleasure of work with eva today . s...\n",
       "996      3  you ca n't go wrong with the french toast or l...\n",
       "997      0  so back in march i go to auto air by ben to ge...\n",
       "998      4  best waffle ever ! i build my own with nutella...\n",
       "999      4  love the outdoor seat area that have heat . i ...\n",
       "\n",
       "[1000 rows x 2 columns]"
      ]
     },
     "execution_count": 5,
     "metadata": {},
     "output_type": "execute_result"
    }
   ],
   "source": [
    "small_df['label'] = small_df['label'] - 1\n",
    "small_df"
   ]
  },
  {
   "cell_type": "code",
   "execution_count": 6,
   "id": "1d573e94",
   "metadata": {
    "scrolled": true
   },
   "outputs": [],
   "source": [
    "from sklearn.model_selection import train_test_split\n",
    "train_df, test_df = train_test_split(small_df , test_size=0.2, random_state=42)"
   ]
  },
  {
   "cell_type": "code",
   "execution_count": 7,
   "id": "8c62291c",
   "metadata": {
    "scrolled": true
   },
   "outputs": [
    {
     "name": "stderr",
     "output_type": "stream",
     "text": [
      "/opt/conda/envs/EHmin/lib/python3.9/site-packages/tqdm/auto.py:21: TqdmWarning: IProgress not found. Please update jupyter and ipywidgets. See https://ipywidgets.readthedocs.io/en/stable/user_install.html\n",
      "  from .autonotebook import tqdm as notebook_tqdm\n"
     ]
    },
    {
     "data": {
      "text/plain": [
       "{'label': 3,\n",
       " 'text': \"bushi be one of my midtown favorite , and i can never understand why it 's always so quiet . the booth be typically fill with romantic couple while the center of the restaurant be ghostly quiet . when our cherry blossom roll be present , i have to stifle a squeal of delight . artfully display , it look like a colorful caterpillar with radish-sprout antenna , orange roe sprinkle , and avocado stripe . our nigiri ( crab and yellowtail ) be melt-in-your-mouth fresh , and even the cuke salad here be a delicious sesame-sweet piece of art pile tastefully and top with succulent string of crab and sprout . the yummy-yummy and playboy be outstanding here as well .\",\n",
       " '__index_level_0__': 541}"
      ]
     },
     "execution_count": 7,
     "metadata": {},
     "output_type": "execute_result"
    }
   ],
   "source": [
    "from datasets import Dataset\n",
    "\n",
    "small_train_dataset = Dataset.from_pandas(train_df)\n",
    "small_eval_dataset = Dataset.from_pandas(test_df)\n",
    "small_train_dataset[100]"
   ]
  },
  {
   "cell_type": "code",
   "execution_count": null,
   "id": "1adaa753",
   "metadata": {},
   "outputs": [],
   "source": []
  },
  {
   "attachments": {},
   "cell_type": "markdown",
   "id": "c8afc24d",
   "metadata": {},
   "source": [
    "# Tokenize"
   ]
  },
  {
   "cell_type": "code",
   "execution_count": 8,
   "id": "23b61428",
   "metadata": {},
   "outputs": [
    {
     "name": "stderr",
     "output_type": "stream",
     "text": [
      "                                                               \r"
     ]
    }
   ],
   "source": [
    "from transformers import AutoTokenizer\n",
    "\n",
    "tokenizer = AutoTokenizer.from_pretrained(\"bert-base-cased\")\n",
    "\n",
    "\n",
    "def tokenize_function(examples):\n",
    "    return tokenizer(examples[\"text\"], padding=\"max_length\", truncation=True)\n",
    "\n",
    "\n",
    "small_train_dataset = small_train_dataset.map(tokenize_function, batched=True)\n",
    "small_eval_dataset = small_eval_dataset.map(tokenize_function, batched=True)"
   ]
  },
  {
   "attachments": {},
   "cell_type": "markdown",
   "id": "8790d647",
   "metadata": {},
   "source": [
    "# Train"
   ]
  },
  {
   "cell_type": "code",
   "execution_count": 9,
   "id": "b51ab65a",
   "metadata": {},
   "outputs": [],
   "source": [
    "# !pip install transformers"
   ]
  },
  {
   "cell_type": "code",
   "execution_count": 10,
   "id": "ce67e0c2",
   "metadata": {},
   "outputs": [],
   "source": [
    "#!pip install --user --upgrade tensorflow"
   ]
  },
  {
   "cell_type": "code",
   "execution_count": 11,
   "id": "bc0a05fa",
   "metadata": {},
   "outputs": [],
   "source": [
    "#!pip install --user --upgrade protobuf"
   ]
  },
  {
   "cell_type": "code",
   "execution_count": 12,
   "id": "a6afde54",
   "metadata": {
    "scrolled": false
   },
   "outputs": [
    {
     "name": "stderr",
     "output_type": "stream",
     "text": [
      "Some weights of the model checkpoint at bert-base-cased were not used when initializing BertForSequenceClassification: ['cls.seq_relationship.bias', 'cls.predictions.transform.dense.weight', 'cls.predictions.transform.LayerNorm.weight', 'cls.seq_relationship.weight', 'cls.predictions.decoder.weight', 'cls.predictions.bias', 'cls.predictions.transform.LayerNorm.bias', 'cls.predictions.transform.dense.bias']\n",
      "- This IS expected if you are initializing BertForSequenceClassification from the checkpoint of a model trained on another task or with another architecture (e.g. initializing a BertForSequenceClassification model from a BertForPreTraining model).\n",
      "- This IS NOT expected if you are initializing BertForSequenceClassification from the checkpoint of a model that you expect to be exactly identical (initializing a BertForSequenceClassification model from a BertForSequenceClassification model).\n",
      "Some weights of BertForSequenceClassification were not initialized from the model checkpoint at bert-base-cased and are newly initialized: ['classifier.weight', 'classifier.bias']\n",
      "You should probably TRAIN this model on a down-stream task to be able to use it for predictions and inference.\n"
     ]
    }
   ],
   "source": [
    "from transformers import AutoModelForSequenceClassification\n",
    "model = AutoModelForSequenceClassification.from_pretrained(\"bert-base-cased\", num_labels=5)"
   ]
  },
  {
   "cell_type": "code",
   "execution_count": 13,
   "id": "9535ccbb",
   "metadata": {},
   "outputs": [],
   "source": [
    "#!pip install protobuf==3.20"
   ]
  },
  {
   "cell_type": "code",
   "execution_count": 14,
   "id": "b50768ec",
   "metadata": {},
   "outputs": [],
   "source": [
    "#pip install tensorboardX"
   ]
  },
  {
   "cell_type": "code",
   "execution_count": 15,
   "id": "3da1e35c",
   "metadata": {
    "scrolled": true
   },
   "outputs": [],
   "source": [
    "from transformers import TrainingArguments\n",
    "\n",
    "training_args = TrainingArguments(output_dir=\"test_trainer\")"
   ]
  },
  {
   "attachments": {},
   "cell_type": "markdown",
   "id": "31d98b45",
   "metadata": {},
   "source": [
    "# Evaluate"
   ]
  },
  {
   "cell_type": "code",
   "execution_count": 16,
   "id": "47f6bff1",
   "metadata": {},
   "outputs": [],
   "source": [
    "import numpy as np\n",
    "import evaluate\n",
    "\n",
    "metric = evaluate.load(\"accuracy\")\n",
    "my = []"
   ]
  },
  {
   "cell_type": "code",
   "execution_count": 17,
   "id": "836ebb3f",
   "metadata": {},
   "outputs": [],
   "source": [
    "def compute_metrics(eval_pred):\n",
    "    logits, labels = eval_pred\n",
    "    predictions = np.argmax(logits, axis=-1)\n",
    "    return metric.compute(predictions=predictions, references=labels)"
   ]
  },
  {
   "cell_type": "code",
   "execution_count": 18,
   "id": "9ec10650",
   "metadata": {
    "scrolled": false
   },
   "outputs": [],
   "source": [
    "# from transformers import TrainingArguments, Trainer\n",
    "\n",
    "# training_args = TrainingArguments(output_dir=\"test_trainer\", \n",
    "#                                   evaluation_strategy=\"epoch\",\n",
    "#                                   logging_strategy = 'epoch',\n",
    "#                                   save_strategy = 'epoch',\n",
    "#                                   gradient_accumulation_steps=8,\n",
    "#                                   #logging_steps = 100,\n",
    "#                                   num_train_epochs=10\n",
    "#                                   )\n"
   ]
  },
  {
   "cell_type": "code",
   "execution_count": 19,
   "id": "440b13cd",
   "metadata": {},
   "outputs": [],
   "source": [
    "from transformers import TrainingArguments, Trainer\n",
    "\n",
    "training_args = TrainingArguments(output_dir=\"test_trainer\", \n",
    "                                  evaluation_strategy=\"epoch\",\n",
    "                                  gradient_accumulation_steps=8,\n",
    "                                  eval_accumulation_steps = 8,\n",
    "                                  \n",
    "                                  logging_strategy = 'epoch',\n",
    "                                #   logging_strategy = 'steps',\n",
    "                                #   logging_steps = 100,\n",
    "                                  \n",
    "                                  save_strategy = 'epoch',\n",
    "                                #   save_strategy = 'steps',\n",
    "                                #   save_steps = 1,\n",
    "                                  jit_mode_eval = True,\n",
    "                                  num_train_epochs=1\n",
    "                                  )"
   ]
  },
  {
   "attachments": {},
   "cell_type": "markdown",
   "id": "2f85a8be",
   "metadata": {},
   "source": [
    "# Trainer"
   ]
  },
  {
   "cell_type": "code",
   "execution_count": 20,
   "id": "e93dc79b",
   "metadata": {},
   "outputs": [],
   "source": [
    "trainer = Trainer(\n",
    "    model=model,\n",
    "    args=training_args,\n",
    "    train_dataset=small_train_dataset,\n",
    "    eval_dataset=small_eval_dataset,\n",
    "    compute_metrics=compute_metrics,\n",
    ")"
   ]
  },
  {
   "cell_type": "code",
   "execution_count": 21,
   "id": "430e74b7",
   "metadata": {},
   "outputs": [
    {
     "name": "stdout",
     "output_type": "stream",
     "text": [
      "[name: \"/device:CPU:0\"\n",
      "device_type: \"CPU\"\n",
      "memory_limit: 268435456\n",
      "locality {\n",
      "}\n",
      "incarnation: 1824138888818704460\n",
      "xla_global_id: -1\n",
      ", name: \"/device:GPU:0\"\n",
      "device_type: \"GPU\"\n",
      "memory_limit: 14433583104\n",
      "locality {\n",
      "  bus_id: 1\n",
      "  links {\n",
      "  }\n",
      "}\n",
      "incarnation: 6606758900262915730\n",
      "physical_device_desc: \"device: 0, name: Tesla V100-SXM2-16GB, pci bus id: 0000:00:04.0, compute capability: 7.0\"\n",
      "xla_global_id: 416903419\n",
      "]\n"
     ]
    },
    {
     "name": "stderr",
     "output_type": "stream",
     "text": [
      "2023-06-10 01:56:08.626095: I tensorflow/core/platform/cpu_feature_guard.cc:193] This TensorFlow binary is optimized with oneAPI Deep Neural Network Library (oneDNN) to use the following CPU instructions in performance-critical operations:  AVX2 AVX512F FMA\n",
      "To enable them in other operations, rebuild TensorFlow with the appropriate compiler flags.\n",
      "2023-06-10 01:56:08.636652: I tensorflow/stream_executor/cuda/cuda_gpu_executor.cc:975] successful NUMA node read from SysFS had negative value (-1), but there must be at least one NUMA node, so returning NUMA node zero\n",
      "2023-06-10 01:56:08.645584: I tensorflow/stream_executor/cuda/cuda_gpu_executor.cc:975] successful NUMA node read from SysFS had negative value (-1), but there must be at least one NUMA node, so returning NUMA node zero\n",
      "2023-06-10 01:56:08.645822: I tensorflow/stream_executor/cuda/cuda_gpu_executor.cc:975] successful NUMA node read from SysFS had negative value (-1), but there must be at least one NUMA node, so returning NUMA node zero\n",
      "2023-06-10 01:56:08.648119: I tensorflow/stream_executor/cuda/cuda_gpu_executor.cc:975] successful NUMA node read from SysFS had negative value (-1), but there must be at least one NUMA node, so returning NUMA node zero\n",
      "2023-06-10 01:56:08.648349: I tensorflow/stream_executor/cuda/cuda_gpu_executor.cc:975] successful NUMA node read from SysFS had negative value (-1), but there must be at least one NUMA node, so returning NUMA node zero\n",
      "2023-06-10 01:56:08.648536: I tensorflow/stream_executor/cuda/cuda_gpu_executor.cc:975] successful NUMA node read from SysFS had negative value (-1), but there must be at least one NUMA node, so returning NUMA node zero\n",
      "2023-06-10 01:56:08.648710: I tensorflow/core/common_runtime/gpu/gpu_device.cc:1532] Created device /device:GPU:0 with 13764 MB memory:  -> device: 0, name: Tesla V100-SXM2-16GB, pci bus id: 0000:00:04.0, compute capability: 7.0\n"
     ]
    }
   ],
   "source": [
    "import tensorflow as tf\n",
    "from tensorflow.python.client import device_lib\n",
    "print(device_lib.list_local_devices())"
   ]
  },
  {
   "cell_type": "code",
   "execution_count": 22,
   "id": "503262cb",
   "metadata": {},
   "outputs": [],
   "source": [
    "from transformers import TrainerCallback\n",
    "from copy import deepcopy\n",
    "\n",
    "class CustomCallback(TrainerCallback):\n",
    "    \n",
    "    def __init__(self, trainer) -> None:\n",
    "        super().__init__()\n",
    "        self._trainer = trainer\n",
    "    \n",
    "    def on_epoch_end(self, args, state, control, **kwargs):\n",
    "        if control.should_evaluate:\n",
    "            control_copy = deepcopy(control)\n",
    "            self._trainer.evaluate(eval_dataset=self._trainer.train_dataset, metric_key_prefix=\"train\")\n",
    "            return control_copy\n",
    "        \n",
    "        \n",
    "trainer.add_callback(CustomCallback(trainer)) "
   ]
  },
  {
   "cell_type": "code",
   "execution_count": 23,
   "id": "a3e3ea2f",
   "metadata": {
    "scrolled": false
   },
   "outputs": [
    {
     "name": "stderr",
     "output_type": "stream",
     "text": [
      "2023-06-10 01:56:08.670658: I tensorflow/stream_executor/cuda/cuda_gpu_executor.cc:975] successful NUMA node read from SysFS had negative value (-1), but there must be at least one NUMA node, so returning NUMA node zero\n",
      "2023-06-10 01:56:08.670926: I tensorflow/stream_executor/cuda/cuda_gpu_executor.cc:975] successful NUMA node read from SysFS had negative value (-1), but there must be at least one NUMA node, so returning NUMA node zero\n",
      "2023-06-10 01:56:08.671104: I tensorflow/stream_executor/cuda/cuda_gpu_executor.cc:975] successful NUMA node read from SysFS had negative value (-1), but there must be at least one NUMA node, so returning NUMA node zero\n",
      "2023-06-10 01:56:08.671621: I tensorflow/stream_executor/cuda/cuda_gpu_executor.cc:975] successful NUMA node read from SysFS had negative value (-1), but there must be at least one NUMA node, so returning NUMA node zero\n",
      "2023-06-10 01:56:08.671850: I tensorflow/stream_executor/cuda/cuda_gpu_executor.cc:975] successful NUMA node read from SysFS had negative value (-1), but there must be at least one NUMA node, so returning NUMA node zero\n",
      "2023-06-10 01:56:08.672039: I tensorflow/stream_executor/cuda/cuda_gpu_executor.cc:975] successful NUMA node read from SysFS had negative value (-1), but there must be at least one NUMA node, so returning NUMA node zero\n",
      "2023-06-10 01:56:08.672285: I tensorflow/stream_executor/cuda/cuda_gpu_executor.cc:975] successful NUMA node read from SysFS had negative value (-1), but there must be at least one NUMA node, so returning NUMA node zero\n",
      "2023-06-10 01:56:08.672477: I tensorflow/stream_executor/cuda/cuda_gpu_executor.cc:975] successful NUMA node read from SysFS had negative value (-1), but there must be at least one NUMA node, so returning NUMA node zero\n",
      "2023-06-10 01:56:08.672650: I tensorflow/core/common_runtime/gpu/gpu_device.cc:1532] Created device /job:localhost/replica:0/task:0/device:GPU:0 with 13764 MB memory:  -> device: 0, name: Tesla V100-SXM2-16GB, pci bus id: 0000:00:04.0, compute capability: 7.0\n",
      "/opt/conda/envs/EHmin/lib/python3.9/site-packages/transformers/optimization.py:407: FutureWarning: This implementation of AdamW is deprecated and will be removed in a future version. Use the PyTorch implementation torch.optim.AdamW instead, or set `no_deprecation_warning=True` to disable this warning\n",
      "  warnings.warn(\n"
     ]
    },
    {
     "data": {
      "text/html": [
       "\n",
       "    <div>\n",
       "      \n",
       "      <progress value='12' max='12' style='width:300px; height:20px; vertical-align: middle;'></progress>\n",
       "      [12/12 00:40, Epoch 0/1]\n",
       "    </div>\n",
       "    <table border=\"1\" class=\"dataframe\">\n",
       "  <thead>\n",
       " <tr style=\"text-align: left;\">\n",
       "      <th>Epoch</th>\n",
       "      <th>Training Loss</th>\n",
       "      <th>Validation Loss</th>\n",
       "      <th>Accuracy</th>\n",
       "    </tr>\n",
       "  </thead>\n",
       "  <tbody>\n",
       "    <tr>\n",
       "      <td>0</td>\n",
       "      <td>No log</td>\n",
       "      <td>1.204323</td>\n",
       "      <td>0.527500</td>\n",
       "    </tr>\n",
       "    <tr>\n",
       "      <td>0</td>\n",
       "      <td>1.351300</td>\n",
       "      <td>1.291545</td>\n",
       "      <td>0.465000</td>\n",
       "    </tr>\n",
       "  </tbody>\n",
       "</table><p>"
      ],
      "text/plain": [
       "<IPython.core.display.HTML object>"
      ]
     },
     "metadata": {},
     "output_type": "display_data"
    },
    {
     "name": "stderr",
     "output_type": "stream",
     "text": [
      "failed to use PyTorch jit mode due to: not enough values to unpack (expected 2, got 1).\n",
      "failed to use PyTorch jit mode due to: not enough values to unpack (expected 2, got 1).\n"
     ]
    }
   ],
   "source": [
    "with tf.device(\"/device:GPU:0\"):\n",
    "     trainer.train()"
   ]
  },
  {
   "cell_type": "code",
   "execution_count": 24,
   "id": "f0da2675",
   "metadata": {},
   "outputs": [],
   "source": [
    "trainer.save_model('./')"
   ]
  },
  {
   "cell_type": "code",
   "execution_count": 25,
   "id": "3c2a1314",
   "metadata": {},
   "outputs": [
    {
     "name": "stderr",
     "output_type": "stream",
     "text": [
      "failed to use PyTorch jit mode due to: not enough values to unpack (expected 2, got 1).\n"
     ]
    },
    {
     "data": {
      "text/html": [],
      "text/plain": [
       "<IPython.core.display.HTML object>"
      ]
     },
     "metadata": {},
     "output_type": "display_data"
    }
   ],
   "source": [
    "metrics = trainer.evaluate(small_eval_dataset)"
   ]
  },
  {
   "cell_type": "code",
   "execution_count": 26,
   "id": "548901e6",
   "metadata": {},
   "outputs": [
    {
     "name": "stdout",
     "output_type": "stream",
     "text": [
      "{'eval_loss': 1.2915453910827637, 'eval_jit_compilation_time': 0.3279, 'eval_accuracy': 0.465, 'eval_runtime': 2.1191, 'eval_samples_per_second': 94.381, 'eval_steps_per_second': 11.798, 'epoch': 0.96}\n"
     ]
    }
   ],
   "source": [
    "print(metrics)"
   ]
  },
  {
   "cell_type": "code",
   "execution_count": 27,
   "id": "fa4069d5",
   "metadata": {},
   "outputs": [
    {
     "ename": "AttributeError",
     "evalue": "'dict' object has no attribute 'predictions'",
     "output_type": "error",
     "traceback": [
      "\u001b[0;31m---------------------------------------------------------------------------\u001b[0m",
      "\u001b[0;31mAttributeError\u001b[0m                            Traceback (most recent call last)",
      "Cell \u001b[0;32mIn[27], line 1\u001b[0m\n\u001b[0;32m----> 1\u001b[0m predictions \u001b[39m=\u001b[39m metrics\u001b[39m.\u001b[39;49mpredictions\n\u001b[1;32m      2\u001b[0m labels \u001b[39m=\u001b[39m metrics\u001b[39m.\u001b[39mlabel_ids\n\u001b[1;32m      4\u001b[0m \u001b[39m# Process the predictions and labels as needed\u001b[39;00m\n",
      "\u001b[0;31mAttributeError\u001b[0m: 'dict' object has no attribute 'predictions'"
     ]
    }
   ],
   "source": [
    "predictions = metrics.predictions\n",
    "labels = metrics.label_ids\n",
    "\n",
    "# Process the predictions and labels as needed\n",
    "for pred, label in zip(predictions, labels):\n",
    "    # Do something with each prediction and label\n",
    "    print(f\"Prediction: {pred}, Label: {label}\")"
   ]
  },
  {
   "cell_type": "code",
   "execution_count": 28,
   "id": "0d510def",
   "metadata": {},
   "outputs": [
    {
     "name": "stderr",
     "output_type": "stream",
     "text": [
      "failed to use PyTorch jit mode due to: not enough values to unpack (expected 2, got 1).\n"
     ]
    },
    {
     "name": "stdout",
     "output_type": "stream",
     "text": [
      "PredictionOutput(predictions=array([[ 3.82540166e-01, -3.22765023e-01, -1.08233273e-01,\n",
      "         2.05838725e-01,  1.75430655e+00],\n",
      "       [ 4.34701324e-01,  1.01376232e-02, -3.34237516e-01,\n",
      "         2.07223102e-01,  1.04577065e+00],\n",
      "       [ 4.48448598e-01,  5.58305904e-03, -3.22258741e-01,\n",
      "         2.01385379e-01,  1.03788090e+00],\n",
      "       [ 3.10886204e-01, -3.93212467e-01, -6.37769848e-02,\n",
      "         1.28623515e-01,  1.84396231e+00],\n",
      "       [ 4.02079493e-01, -1.45305708e-01, -2.18623266e-01,\n",
      "         2.11547270e-01,  1.32426941e+00],\n",
      "       [ 4.45059091e-01, -1.63512141e-01, -1.92228645e-01,\n",
      "         1.86213568e-01,  1.39827049e+00],\n",
      "       [ 3.65985245e-01, -2.09347025e-01, -1.74605101e-01,\n",
      "         2.32916862e-01,  1.49017107e+00],\n",
      "       [ 4.67870593e-01, -2.15501398e-01, -1.46014526e-01,\n",
      "         1.60026997e-01,  1.44950879e+00],\n",
      "       [ 4.75142449e-01, -1.66766286e-01, -2.43076622e-01,\n",
      "         1.14904039e-01,  1.26890290e+00],\n",
      "       [ 4.60828722e-01, -2.89237291e-01, -1.35802388e-01,\n",
      "         2.50699878e-01,  1.57371962e+00],\n",
      "       [ 5.07453144e-01,  5.49801253e-02, -3.75830144e-01,\n",
      "         1.83449343e-01,  9.05288219e-01],\n",
      "       [ 4.59755063e-01, -2.51064509e-01, -1.73710272e-01,\n",
      "         1.18191600e-01,  1.33978403e+00],\n",
      "       [ 3.91237974e-01, -2.86196113e-01, -1.67752564e-01,\n",
      "         7.89214298e-02,  1.48146141e+00],\n",
      "       [ 3.77393842e-01, -2.77405500e-01, -1.01560540e-01,\n",
      "         2.21250027e-01,  1.67354190e+00],\n",
      "       [ 4.71477628e-01, -3.88282374e-03, -3.32278281e-01,\n",
      "         1.68394178e-01,  1.10269320e+00],\n",
      "       [ 4.23327237e-01, -2.17526153e-01, -1.66676730e-01,\n",
      "         1.76967368e-01,  1.48294246e+00],\n",
      "       [ 3.23851943e-01, -2.89972067e-01, -7.66568109e-02,\n",
      "         1.75806448e-01,  1.94261444e+00],\n",
      "       [ 4.81204867e-01, -4.40247841e-02, -3.17120939e-01,\n",
      "         2.03437626e-01,  1.10191524e+00],\n",
      "       [ 3.65043163e-01, -2.62494534e-01, -1.40410319e-01,\n",
      "         1.97889507e-01,  1.66977668e+00],\n",
      "       [ 4.49307710e-01, -7.43049607e-02, -2.69332886e-01,\n",
      "         2.33765855e-01,  1.20771325e+00],\n",
      "       [ 4.86333907e-01, -2.18561009e-01, -2.06960991e-01,\n",
      "         1.90489814e-01,  1.44260120e+00],\n",
      "       [ 4.54627126e-01,  4.37824130e-02, -3.52349102e-01,\n",
      "         1.84580326e-01,  1.02386379e+00],\n",
      "       [ 4.85181928e-01,  3.85913886e-02, -4.14008439e-01,\n",
      "         1.82801992e-01,  9.65253830e-01],\n",
      "       [ 2.96986997e-01, -2.70988494e-01, -2.70338543e-02,\n",
      "         1.69051260e-01,  1.98557317e+00],\n",
      "       [ 3.69088382e-01, -2.91090727e-01, -1.00559026e-01,\n",
      "         2.10492358e-01,  1.78737068e+00],\n",
      "       [ 4.00313586e-01, -2.23176241e-01, -1.87549949e-01,\n",
      "         2.26952955e-01,  1.41519177e+00],\n",
      "       [ 4.57097650e-01, -1.72316641e-01, -2.69049227e-01,\n",
      "         1.90883502e-01,  1.35353732e+00],\n",
      "       [ 3.88554633e-01, -2.92292237e-01, -1.17329538e-01,\n",
      "         1.83158264e-01,  1.60625231e+00],\n",
      "       [ 4.12279218e-01, -1.30007640e-01, -2.46481776e-01,\n",
      "         2.45671898e-01,  1.25143743e+00],\n",
      "       [ 4.45879638e-01, -2.17775300e-01, -1.97459847e-01,\n",
      "         1.68846145e-01,  1.35997510e+00],\n",
      "       [ 3.63062143e-01, -3.11371684e-01, -8.02355930e-02,\n",
      "         1.38950422e-01,  1.76950216e+00],\n",
      "       [ 4.37325716e-01, -1.16499029e-01, -2.21515834e-01,\n",
      "         7.14938417e-02,  1.19208109e+00],\n",
      "       [ 3.54918003e-01, -2.94388294e-01, -5.94409630e-02,\n",
      "         1.98135719e-01,  1.86078882e+00],\n",
      "       [ 4.74371463e-01, -7.32951099e-04, -2.58124471e-01,\n",
      "         8.35702270e-02,  9.38850403e-01],\n",
      "       [ 3.82457316e-01, -3.72614831e-01, -9.08766240e-02,\n",
      "         1.81685969e-01,  1.80096877e+00],\n",
      "       [ 4.58398342e-01, -2.04193573e-02, -3.04982752e-01,\n",
      "         2.02529207e-01,  1.13401711e+00],\n",
      "       [ 4.92988825e-01, -9.33272764e-02, -2.62114584e-01,\n",
      "         1.47120908e-01,  1.20556235e+00],\n",
      "       [ 3.58950198e-01, -2.53445417e-01, -1.47735372e-01,\n",
      "         2.17648134e-01,  1.59305322e+00],\n",
      "       [ 4.12850738e-01, -2.22534556e-02, -3.05781037e-01,\n",
      "         1.73013583e-01,  1.03484273e+00],\n",
      "       [ 4.51782405e-01,  2.32644584e-02, -3.34188819e-01,\n",
      "         2.30250955e-01,  1.01280820e+00],\n",
      "       [ 4.03964102e-01, -2.50967056e-01, -9.74264666e-02,\n",
      "         2.50630140e-01,  1.65966570e+00],\n",
      "       [ 4.85727966e-01, -1.86694041e-01, -2.20414922e-01,\n",
      "         1.70030490e-01,  1.30666959e+00],\n",
      "       [ 3.40545148e-01, -3.28101963e-01, -1.04663856e-01,\n",
      "         1.24597609e-01,  1.87682343e+00],\n",
      "       [ 4.50315982e-01, -1.96524069e-01, -1.69163048e-01,\n",
      "         2.76531816e-01,  1.56948388e+00],\n",
      "       [ 3.45973104e-01, -2.97966391e-01, -1.49739087e-01,\n",
      "         2.05034316e-01,  1.71258366e+00],\n",
      "       [ 3.61929715e-01, -2.66897976e-01, -1.73808903e-01,\n",
      "         1.65711105e-01,  1.75241876e+00],\n",
      "       [ 4.96144414e-01,  1.21936217e-01, -3.76013935e-01,\n",
      "         1.97912410e-01,  8.57986629e-01],\n",
      "       [ 3.52885187e-01, -1.68651953e-01, -2.03566968e-01,\n",
      "         2.34030589e-01,  1.46658540e+00],\n",
      "       [ 4.43855047e-01, -4.91359346e-02, -2.77869284e-01,\n",
      "         1.24065146e-01,  1.10296476e+00],\n",
      "       [ 3.74033093e-01, -2.31401578e-01, -1.58096552e-01,\n",
      "         2.33067170e-01,  1.71355951e+00],\n",
      "       [ 3.57250035e-01, -3.17499220e-01, -4.31845188e-02,\n",
      "         2.07156852e-01,  1.83731496e+00],\n",
      "       [ 3.41441274e-01, -3.08089197e-01, -4.04891744e-02,\n",
      "         1.25861719e-01,  1.95509267e+00],\n",
      "       [ 4.57377613e-01,  9.89556834e-02, -3.54599237e-01,\n",
      "         1.19689733e-01,  8.58381987e-01],\n",
      "       [ 3.11703146e-01, -3.23065370e-01, -6.11253083e-02,\n",
      "         2.10895553e-01,  1.87376666e+00],\n",
      "       [ 4.38546509e-01, -3.33303139e-02, -2.80451447e-01,\n",
      "         2.44223848e-01,  1.14946914e+00],\n",
      "       [ 3.07622850e-01, -2.65043229e-01, -1.22465193e-01,\n",
      "         1.58903793e-01,  1.84785640e+00],\n",
      "       [ 4.12418574e-01, -1.58642560e-01, -2.41119653e-01,\n",
      "         1.98739335e-01,  1.34413564e+00],\n",
      "       [ 5.13282120e-01, -9.57006030e-03, -3.15560699e-01,\n",
      "         2.01285243e-01,  1.08013606e+00],\n",
      "       [ 3.47084045e-01, -3.05791765e-01, -4.09236327e-02,\n",
      "         1.28790319e-01,  1.94113970e+00],\n",
      "       [ 3.09995502e-01, -2.90508747e-01, -8.46449062e-02,\n",
      "         1.52046800e-01,  1.92043209e+00],\n",
      "       [ 3.80367726e-01, -2.53700227e-01, -9.30446759e-02,\n",
      "         1.65261373e-01,  1.76756918e+00],\n",
      "       [ 4.55974281e-01,  1.15207307e-01, -3.55414987e-01,\n",
      "         1.10603534e-01,  8.65037441e-01],\n",
      "       [ 3.39199156e-01, -2.77740985e-01, -1.03660010e-01,\n",
      "         1.77406922e-01,  1.86090493e+00],\n",
      "       [ 4.62101370e-01, -1.08836412e-01, -3.02141130e-01,\n",
      "         1.68683782e-01,  1.10556245e+00],\n",
      "       [ 3.75725031e-01, -3.01920682e-01, -1.09735057e-01,\n",
      "         1.04995921e-01,  1.88144755e+00],\n",
      "       [ 3.46646130e-01, -3.50544602e-01, -1.00919619e-01,\n",
      "         1.14419743e-01,  1.88438535e+00],\n",
      "       [ 4.40563619e-01, -1.08662479e-01, -2.38316163e-01,\n",
      "         1.54654607e-01,  1.21334672e+00],\n",
      "       [ 3.08081001e-01, -3.34734231e-01, -5.86477742e-02,\n",
      "         1.83355510e-01,  1.81581521e+00],\n",
      "       [ 3.70563626e-01, -2.41088256e-01, -1.48740843e-01,\n",
      "         1.61849871e-01,  1.52621591e+00],\n",
      "       [ 3.80940199e-01, -1.24083459e-01, -2.48890907e-01,\n",
      "         1.69678763e-01,  1.24104929e+00],\n",
      "       [ 3.45462799e-01, -3.24763268e-01, -7.99994394e-02,\n",
      "         1.37929782e-01,  1.87384212e+00],\n",
      "       [ 3.41750503e-01, -2.87967563e-01, -3.02937925e-02,\n",
      "         1.42515704e-01,  1.95690930e+00],\n",
      "       [ 4.66180682e-01, -4.05990668e-02, -2.92645454e-01,\n",
      "         2.00169042e-01,  1.09523404e+00],\n",
      "       [ 4.64309037e-01, -1.58655599e-01, -2.51347691e-01,\n",
      "         1.99826121e-01,  1.30488706e+00],\n",
      "       [ 4.40242320e-01,  2.01875251e-02, -2.99628228e-01,\n",
      "         1.40744612e-01,  1.01543283e+00],\n",
      "       [ 4.78014141e-01, -1.91524401e-01, -2.13994682e-01,\n",
      "         1.37930468e-01,  1.29867065e+00],\n",
      "       [ 3.92823458e-01, -2.74552792e-01, -1.02460682e-01,\n",
      "         2.06630945e-01,  1.74977195e+00],\n",
      "       [ 4.06705409e-01, -2.33747318e-01, -1.72414750e-01,\n",
      "         2.27226511e-01,  1.54695988e+00],\n",
      "       [ 4.28501725e-01,  6.40773028e-02, -3.25722247e-01,\n",
      "         1.63557246e-01,  9.53549862e-01],\n",
      "       [ 3.67403924e-01, -2.96435028e-01, -1.22174889e-01,\n",
      "         1.87473968e-01,  1.69918442e+00],\n",
      "       [ 3.20211142e-01, -2.93971598e-01, -5.00973016e-02,\n",
      "         1.40097365e-01,  1.89254975e+00],\n",
      "       [ 4.74111140e-01, -1.21852934e-01, -2.34613150e-01,\n",
      "         2.12824196e-01,  1.22941887e+00],\n",
      "       [ 3.49485487e-01, -2.77398199e-01, -1.14497118e-01,\n",
      "         2.04599187e-01,  1.72492623e+00],\n",
      "       [ 4.18304056e-01, -2.16849938e-01, -1.47676975e-01,\n",
      "         1.70675531e-01,  1.43816352e+00],\n",
      "       [ 3.07176232e-01, -3.63715470e-01, -8.57278854e-02,\n",
      "         1.81833312e-01,  1.89555514e+00],\n",
      "       [ 4.88663107e-01, -5.57263494e-02, -2.91042417e-01,\n",
      "         1.46219939e-01,  1.07770205e+00],\n",
      "       [ 3.58175814e-01, -3.10988694e-01, -1.11373156e-01,\n",
      "         2.48382404e-01,  1.83222115e+00],\n",
      "       [ 3.50386202e-01, -2.27705345e-01, -1.69000432e-01,\n",
      "         1.96989909e-01,  1.55894315e+00],\n",
      "       [ 3.15977633e-01, -2.65843183e-01, -8.14082921e-02,\n",
      "         2.01047942e-01,  1.86239195e+00],\n",
      "       [ 4.59019125e-01, -1.76569566e-01, -1.94613576e-01,\n",
      "         1.46367610e-01,  1.33842194e+00],\n",
      "       [ 5.13947129e-01, -7.52304271e-02, -2.78567404e-01,\n",
      "         1.48885474e-01,  1.08981299e+00],\n",
      "       [ 4.58602846e-01, -2.33605728e-01, -1.58573449e-01,\n",
      "         2.05438927e-01,  1.51425314e+00],\n",
      "       [ 4.06755567e-01, -2.96327442e-01, -7.29964748e-02,\n",
      "         2.21722394e-01,  1.69975650e+00],\n",
      "       [ 4.59009558e-01,  3.95541750e-02, -3.05191159e-01,\n",
      "         1.55819356e-01,  9.78935421e-01],\n",
      "       [ 4.36342895e-01, -1.97408095e-01, -1.64579928e-01,\n",
      "         2.45109349e-01,  1.41169739e+00],\n",
      "       [ 3.80414993e-01, -1.57227606e-01, -1.77905262e-01,\n",
      "         2.48647019e-01,  1.34895289e+00],\n",
      "       [ 3.86346638e-01, -2.11998418e-01, -1.94243342e-01,\n",
      "         1.98536664e-01,  1.73219216e+00],\n",
      "       [ 4.02760834e-01, -1.39877602e-01, -2.45701820e-01,\n",
      "         1.98244736e-01,  1.31004536e+00],\n",
      "       [ 3.40580612e-01, -3.24154407e-01, -6.20481819e-02,\n",
      "         1.78442791e-01,  1.84863615e+00],\n",
      "       [ 3.81731570e-01, -1.58779100e-01, -2.18300611e-01,\n",
      "         2.17275709e-01,  1.31856549e+00],\n",
      "       [ 4.41099852e-01, -1.18598409e-01, -2.47523040e-01,\n",
      "         1.52790621e-01,  1.24143434e+00],\n",
      "       [ 4.05454516e-01, -1.37403861e-01, -2.20178962e-01,\n",
      "         1.77204564e-01,  1.24704981e+00],\n",
      "       [ 3.77536774e-01, -3.25937122e-01, -8.77258256e-02,\n",
      "         1.60924330e-01,  1.75614583e+00],\n",
      "       [ 3.24642777e-01, -3.23705375e-01, -6.27921596e-02,\n",
      "         1.64189622e-01,  1.91613543e+00],\n",
      "       [ 4.79082406e-01, -1.38771966e-01, -2.27145761e-01,\n",
      "         2.06151679e-01,  1.24819922e+00],\n",
      "       [ 4.18245971e-01, -1.24158859e-01, -2.52851814e-01,\n",
      "         1.81931868e-01,  1.22717190e+00],\n",
      "       [ 3.90917957e-01, -3.10673654e-01, -9.76097286e-02,\n",
      "         1.75862834e-01,  1.71191323e+00],\n",
      "       [ 3.60810280e-01, -3.03114176e-01, -8.94002467e-02,\n",
      "         2.36388788e-01,  1.69995773e+00],\n",
      "       [ 5.05490720e-01, -3.31680030e-02, -2.94880688e-01,\n",
      "         1.37496874e-01,  1.05670500e+00],\n",
      "       [ 3.71734560e-01, -2.45046943e-01, -5.86719215e-02,\n",
      "         1.56777978e-01,  1.92528951e+00],\n",
      "       [ 3.35647404e-01, -2.51971573e-01, -2.37454362e-02,\n",
      "         9.44504887e-02,  1.95331919e+00],\n",
      "       [ 3.43690544e-01, -2.27879331e-01, -1.59015894e-01,\n",
      "         2.45300561e-01,  1.52984285e+00],\n",
      "       [ 4.27466571e-01, -3.10626328e-01, -1.55737758e-01,\n",
      "         2.12395847e-01,  1.63257873e+00],\n",
      "       [ 3.84634316e-01, -3.29864323e-01, -7.12618530e-02,\n",
      "         1.22855924e-01,  1.79979289e+00],\n",
      "       [ 3.86449516e-01, -2.18530685e-01, -1.89134985e-01,\n",
      "         2.44727612e-01,  1.39674652e+00],\n",
      "       [ 4.57593620e-01, -2.34434996e-02, -2.74318427e-01,\n",
      "         1.79949641e-01,  1.08034515e+00],\n",
      "       [ 4.89314735e-01, -1.30584419e-01, -2.38719851e-01,\n",
      "         8.06517228e-02,  1.12578881e+00],\n",
      "       [ 3.70683968e-01, -2.41961673e-01, -8.28441978e-02,\n",
      "         1.09332092e-01,  1.87095177e+00],\n",
      "       [ 5.03251255e-01, -7.56578967e-02, -2.93463647e-01,\n",
      "         1.25592887e-01,  1.12881696e+00],\n",
      "       [ 3.61328453e-01, -3.32435399e-01, -4.66618054e-02,\n",
      "         2.07894295e-01,  1.90135121e+00],\n",
      "       [ 5.60512781e-01, -4.41470891e-02, -3.65638554e-01,\n",
      "         9.67324227e-02,  1.02181923e+00],\n",
      "       [ 2.79327154e-01, -3.38649988e-01, -4.67535779e-02,\n",
      "         1.46624207e-01,  1.93306875e+00],\n",
      "       [ 3.53919268e-01, -2.52309173e-01, -1.08745500e-01,\n",
      "         1.99045256e-01,  1.74511182e+00],\n",
      "       [ 3.39663416e-01, -3.59891564e-01, -4.39442471e-02,\n",
      "         1.77233055e-01,  1.82450628e+00],\n",
      "       [ 3.45497608e-01, -2.61173278e-01, -8.41968507e-02,\n",
      "         1.75124228e-01,  1.80916572e+00],\n",
      "       [ 3.91861528e-01, -2.50215322e-01, -1.35443032e-01,\n",
      "         2.20999137e-01,  1.69514465e+00],\n",
      "       [ 3.35536659e-01, -2.57128567e-01, -9.03390795e-02,\n",
      "         2.46182516e-01,  1.74269092e+00],\n",
      "       [ 4.89418119e-01,  2.90437713e-02, -3.23326975e-01,\n",
      "         1.82255432e-01,  9.69400823e-01],\n",
      "       [ 3.18453878e-01, -1.97588906e-01, -1.78053051e-01,\n",
      "         2.20281616e-01,  1.47419477e+00],\n",
      "       [ 3.74247968e-01, -1.24104336e-01, -2.85862744e-01,\n",
      "         6.29504472e-02,  1.28731441e+00],\n",
      "       [ 3.10491055e-01, -2.75146157e-01, -7.75748864e-02,\n",
      "         1.70651048e-01,  1.91351914e+00],\n",
      "       [ 3.40311915e-01, -2.96422750e-01, -5.14125079e-02,\n",
      "         1.66963145e-01,  1.94133604e+00],\n",
      "       [ 4.14406508e-01, -2.04995468e-01, -1.42168447e-01,\n",
      "         1.52743146e-01,  1.57573581e+00],\n",
      "       [ 4.21238035e-01, -3.05772483e-01, -1.42390653e-01,\n",
      "         1.35076001e-01,  1.58691657e+00],\n",
      "       [ 3.95904183e-01, -2.86967993e-01, -9.08551961e-02,\n",
      "         1.83160260e-01,  1.89531112e+00],\n",
      "       [ 3.71567190e-01, -2.58868307e-01, -6.79390505e-02,\n",
      "         1.84966430e-01,  1.83408916e+00],\n",
      "       [ 3.12899590e-01, -3.00562441e-01, -6.82873502e-02,\n",
      "         1.63474843e-01,  1.94803536e+00],\n",
      "       [ 5.34705400e-01, -7.43301660e-02, -2.99261987e-01,\n",
      "         1.36393145e-01,  1.10554039e+00],\n",
      "       [ 4.94062424e-01, -3.68076153e-02, -2.93758035e-01,\n",
      "         9.17304009e-02,  9.99800026e-01],\n",
      "       [ 3.61007512e-01, -2.73118764e-01, -6.58838898e-02,\n",
      "         8.89752358e-02,  1.93458688e+00],\n",
      "       [ 4.71202731e-01, -2.56700844e-01, -1.35508031e-01,\n",
      "         1.90802738e-01,  1.50241268e+00],\n",
      "       [ 4.13615465e-01, -2.95000702e-01, -1.62437588e-01,\n",
      "         2.25883141e-01,  1.66976368e+00],\n",
      "       [ 3.52107823e-01, -2.89940804e-01, -9.79566276e-02,\n",
      "         2.16808289e-01,  1.80252886e+00],\n",
      "       [ 3.85542423e-01, -1.57230467e-01, -2.13315934e-01,\n",
      "         2.15193197e-01,  1.28629053e+00],\n",
      "       [ 4.07160044e-01, -1.34896636e-01, -2.21305370e-01,\n",
      "         1.73540369e-01,  1.33272076e+00],\n",
      "       [ 4.96332079e-01, -1.08085677e-01, -2.23251149e-01,\n",
      "         1.51716068e-01,  1.23621190e+00],\n",
      "       [ 4.65212554e-01, -9.37830433e-02, -2.47355357e-01,\n",
      "         2.20400229e-01,  1.29235291e+00],\n",
      "       [ 5.22448957e-01, -1.30500287e-01, -2.70894974e-01,\n",
      "         3.28786671e-02,  1.09160280e+00],\n",
      "       [ 3.30905139e-01, -3.26999694e-01, -6.28355369e-02,\n",
      "         1.72818333e-01,  1.88510811e+00],\n",
      "       [ 3.54500473e-01, -2.63389647e-01, -1.21466964e-01,\n",
      "         1.71439007e-01,  1.62353075e+00],\n",
      "       [ 3.39611650e-01, -2.83320010e-01, -2.17739306e-02,\n",
      "         1.31970555e-01,  1.96025491e+00],\n",
      "       [ 4.45902169e-01, -4.37485985e-03, -3.27117503e-01,\n",
      "         1.60694286e-01,  9.85267818e-01],\n",
      "       [ 3.64030838e-01, -2.83386856e-01, -5.20186834e-02,\n",
      "         1.51777312e-01,  1.92244124e+00],\n",
      "       [ 5.45523703e-01, -4.54316698e-02, -3.39579046e-01,\n",
      "         1.21987820e-01,  1.02195549e+00],\n",
      "       [ 3.76226991e-01, -3.16819310e-01, -1.14065565e-01,\n",
      "         1.35461256e-01,  1.81452739e+00],\n",
      "       [ 5.14673889e-01, -9.87649187e-02, -3.04594100e-01,\n",
      "         1.46392718e-01,  1.12936234e+00],\n",
      "       [ 5.15096903e-01, -8.18983838e-02, -3.07093829e-01,\n",
      "         8.11264068e-02,  1.13512945e+00],\n",
      "       [ 3.49736422e-01, -3.03825110e-01, -1.13289535e-01,\n",
      "         7.94115290e-02,  1.90815210e+00],\n",
      "       [ 3.25408638e-01, -3.09453934e-01, -1.01838768e-01,\n",
      "         1.42256662e-01,  1.81032336e+00],\n",
      "       [ 4.38539296e-01, -1.58666566e-01, -2.30170488e-01,\n",
      "         2.36773014e-01,  1.25260007e+00],\n",
      "       [ 3.78292829e-01, -2.36474201e-01, -1.82594329e-01,\n",
      "         1.96500316e-01,  1.47683775e+00],\n",
      "       [ 3.78652990e-01, -2.16068581e-01, -1.84202671e-01,\n",
      "         2.07081273e-01,  1.38902605e+00],\n",
      "       [ 3.22069943e-01, -3.51132125e-01, -6.41250387e-02,\n",
      "         1.93867266e-01,  1.79313958e+00],\n",
      "       [ 3.93784225e-01, -3.25194776e-01, -9.30396020e-02,\n",
      "         1.74363568e-01,  1.76964486e+00],\n",
      "       [ 4.68241364e-01, -1.74461856e-01, -2.31831476e-01,\n",
      "         2.33586997e-01,  1.31819570e+00],\n",
      "       [ 3.69078934e-01, -2.97895938e-01, -8.29802528e-02,\n",
      "         1.85547724e-01,  1.77313125e+00],\n",
      "       [ 3.48694324e-01, -3.07283551e-01, -3.85100320e-02,\n",
      "         1.72419354e-01,  1.95303941e+00],\n",
      "       [ 5.10956109e-01, -5.82055338e-02, -2.53867358e-01,\n",
      "         2.01796591e-01,  1.13498509e+00],\n",
      "       [ 4.69796330e-01,  6.52681217e-02, -3.39679539e-01,\n",
      "         1.11664191e-01,  9.09226537e-01],\n",
      "       [ 3.39397550e-01, -3.16548914e-01, -9.44756866e-02,\n",
      "         1.96738020e-01,  1.77608287e+00],\n",
      "       [ 5.21505833e-01,  4.09210920e-02, -3.10582221e-01,\n",
      "         1.28473192e-01,  9.07968640e-01],\n",
      "       [ 4.37076002e-01, -2.49766156e-01, -1.22118644e-01,\n",
      "         1.94306657e-01,  1.58859837e+00],\n",
      "       [ 3.46245468e-01, -3.00263196e-01, -9.20523703e-02,\n",
      "         1.24627039e-01,  1.90029800e+00],\n",
      "       [ 3.61213684e-01, -3.04734051e-01, -9.21477899e-02,\n",
      "         2.02877522e-01,  1.82467484e+00],\n",
      "       [ 4.00182366e-01, -2.23335490e-01, -2.00537995e-01,\n",
      "         2.38848194e-01,  1.60761869e+00],\n",
      "       [ 4.27253604e-01, -1.04675688e-01, -2.61973619e-01,\n",
      "         2.36405447e-01,  1.20872581e+00],\n",
      "       [ 3.86833996e-01, -2.75227040e-01, -1.66500553e-01,\n",
      "         1.88619450e-01,  1.55118203e+00],\n",
      "       [ 3.80345821e-01, -2.94318467e-01, -6.09184615e-02,\n",
      "         1.30949229e-01,  1.90264952e+00],\n",
      "       [ 3.44754100e-01, -2.92281985e-01, -7.27660432e-02,\n",
      "         1.93030879e-01,  1.74310637e+00],\n",
      "       [ 4.65304196e-01, -1.94619477e-01, -2.10942701e-01,\n",
      "         1.09559402e-01,  1.27141011e+00],\n",
      "       [ 3.69138360e-01, -2.66765445e-01, -1.10444702e-01,\n",
      "         2.16349334e-01,  1.70014656e+00],\n",
      "       [ 4.57687527e-01, -4.29932177e-02, -2.97095060e-01,\n",
      "         2.17033237e-01,  1.15966260e+00],\n",
      "       [ 3.67940992e-01, -3.05820018e-01, -8.94801170e-02,\n",
      "         1.22361608e-01,  1.90522945e+00],\n",
      "       [ 3.82071018e-01, -3.14912409e-01, -7.85664767e-02,\n",
      "         1.79370046e-01,  1.83210647e+00],\n",
      "       [ 4.08133298e-01, -1.19695194e-01, -2.27921188e-01,\n",
      "         1.91312894e-01,  1.29905939e+00],\n",
      "       [ 4.41691518e-01, -2.77332604e-01, -1.09898224e-01,\n",
      "         2.08195299e-01,  1.61409903e+00],\n",
      "       [ 3.50216448e-01, -2.91533977e-01, -8.98658484e-02,\n",
      "         1.69575989e-01,  1.76314294e+00],\n",
      "       [ 3.11205447e-01, -2.78841943e-01, -8.63885954e-02,\n",
      "         1.23463549e-01,  1.93752992e+00],\n",
      "       [ 4.08479959e-01, -2.81571686e-01, -1.67182714e-01,\n",
      "         1.74108475e-01,  1.56178093e+00],\n",
      "       [ 3.80979270e-01, -1.43500477e-01, -2.34628797e-01,\n",
      "         2.11314470e-01,  1.36006606e+00],\n",
      "       [ 2.68358409e-01, -3.52883995e-01, -1.11936659e-01,\n",
      "         9.36229229e-02,  1.84630406e+00],\n",
      "       [ 4.85649347e-01,  8.62689456e-04, -3.24274659e-01,\n",
      "         1.52992547e-01,  1.00842369e+00],\n",
      "       [ 4.62444782e-01,  9.50817689e-02, -3.97422403e-01,\n",
      "         1.67740613e-01,  8.85858059e-01],\n",
      "       [ 3.99596006e-01, -1.51916936e-01, -2.35058069e-01,\n",
      "         2.26183087e-01,  1.29095876e+00],\n",
      "       [ 3.55107605e-01, -3.10885012e-01, -5.62648140e-02,\n",
      "         1.90528169e-01,  1.92600262e+00],\n",
      "       [ 4.40967172e-01, -2.61530787e-01, -1.49784490e-01,\n",
      "         1.82141051e-01,  1.47892606e+00],\n",
      "       [ 3.51881325e-01, -3.40325892e-01, -7.92860910e-02,\n",
      "         1.54554650e-01,  1.87233305e+00],\n",
      "       [ 3.26127648e-01, -2.58089453e-01, -7.81725347e-02,\n",
      "         1.25221223e-01,  1.95353687e+00],\n",
      "       [ 4.06452328e-01, -1.98761776e-01, -1.83958501e-01,\n",
      "         2.08916530e-01,  1.64087367e+00],\n",
      "       [ 4.87448782e-01,  1.58241186e-02, -3.24818730e-01,\n",
      "         9.87471342e-02,  9.77008760e-01]], dtype=float32), label_ids=array([3, 1, 2, 4, 1, 0, 4, 4, 0, 4, 0, 4, 3, 4, 0, 2, 4, 4, 3, 1, 4, 0,\n",
      "       0, 4, 4, 4, 4, 4, 2, 1, 3, 0, 4, 0, 3, 1, 0, 4, 0, 0, 4, 1, 4, 3,\n",
      "       4, 4, 0, 3, 0, 4, 4, 4, 1, 3, 2, 3, 0, 4, 4, 4, 4, 0, 4, 0, 4, 4,\n",
      "       2, 3, 2, 1, 3, 4, 1, 0, 0, 4, 4, 3, 0, 4, 4, 0, 4, 0, 4, 0, 4, 4,\n",
      "       3, 0, 0, 4, 3, 0, 4, 1, 3, 1, 2, 2, 0, 1, 4, 4, 4, 4, 4, 3, 0, 4,\n",
      "       4, 4, 4, 4, 3, 1, 0, 4, 0, 4, 0, 4, 3, 4, 4, 2, 4, 2, 1, 0, 3, 4,\n",
      "       0, 4, 4, 4, 4, 0, 0, 4, 4, 4, 3, 2, 4, 0, 1, 0, 4, 4, 4, 0, 4, 0,\n",
      "       3, 2, 0, 4, 4, 4, 3, 4, 4, 4, 4, 3, 4, 0, 0, 4, 0, 4, 4, 2, 3, 2,\n",
      "       1, 3, 3, 0, 4, 2, 4, 4, 4, 4, 3, 4, 4, 3, 4, 0, 0, 4, 4, 2, 4, 4,\n",
      "       3, 0]), metrics={'test_loss': 1.2915453910827637, 'test_jit_compilation_time': 0.3107, 'test_accuracy': 0.465, 'test_runtime': 2.1244, 'test_samples_per_second': 94.146, 'test_steps_per_second': 11.768})\n"
     ]
    }
   ],
   "source": [
    "a = trainer.predict(small_eval_dataset)\n",
    "print(a)"
   ]
  },
  {
   "cell_type": "code",
   "execution_count": 32,
   "id": "af039ce1",
   "metadata": {},
   "outputs": [
    {
     "data": {
      "text/plain": [
       "array([ 0.43470132,  0.01013762, -0.33423752,  0.2072231 ,  1.0457706 ],\n",
       "      dtype=float32)"
      ]
     },
     "execution_count": 32,
     "metadata": {},
     "output_type": "execute_result"
    }
   ],
   "source": [
    "a.predictions[1]"
   ]
  },
  {
   "cell_type": "code",
   "execution_count": null,
   "id": "48e7ba0f",
   "metadata": {},
   "outputs": [],
   "source": []
  }
 ],
 "metadata": {
  "kernelspec": {
   "display_name": "Python 3 (ipykernel)",
   "language": "python",
   "name": "python3"
  },
  "language_info": {
   "codemirror_mode": {
    "name": "ipython",
    "version": 3
   },
   "file_extension": ".py",
   "mimetype": "text/x-python",
   "name": "python",
   "nbconvert_exporter": "python",
   "pygments_lexer": "ipython3",
   "version": "3.9.16"
  }
 },
 "nbformat": 4,
 "nbformat_minor": 5
}
