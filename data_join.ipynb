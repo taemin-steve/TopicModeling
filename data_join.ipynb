{
 "cells": [
  {
   "cell_type": "code",
   "execution_count": 2,
   "metadata": {},
   "outputs": [],
   "source": [
    "import pandas as pd\n",
    "\n",
    "# 파일 목록 가져오기\n",
    "files = ['vision_1.xls', 'vision_2.xls', 'vision_3.xls', 'vision_4.xls', 'vision_5.xls']\n",
    "\n",
    "# DataFrame 생성\n",
    "df = pd.DataFrame()\n",
    "\n",
    "# 각 파일을 반복하고 DataFrame에 병합합니다.\n",
    "for file in files:\n",
    "    df = pd.concat([df, pd.read_excel(file)], ignore_index=True)\n",
    "\n",
    "# DataFrame을 저장합니다.\n",
    "df.to_csv('vision_combined.csv', index=False)"
   ]
  }
 ],
 "metadata": {
  "kernelspec": {
   "display_name": "EHmin",
   "language": "python",
   "name": "python3"
  },
  "language_info": {
   "codemirror_mode": {
    "name": "ipython",
    "version": 3
   },
   "file_extension": ".py",
   "mimetype": "text/x-python",
   "name": "python",
   "nbconvert_exporter": "python",
   "pygments_lexer": "ipython3",
   "version": "3.9.16"
  },
  "orig_nbformat": 4
 },
 "nbformat": 4,
 "nbformat_minor": 2
}
